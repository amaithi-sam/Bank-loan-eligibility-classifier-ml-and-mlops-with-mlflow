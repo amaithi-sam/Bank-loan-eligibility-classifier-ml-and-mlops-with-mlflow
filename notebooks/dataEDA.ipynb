{
 "cells": [
  {
   "cell_type": "code",
   "execution_count": 1,
   "metadata": {},
   "outputs": [],
   "source": [
    "import pandas as pd \n",
    "import numpy as np \n",
    "import seaborn as sns \n",
    "import os\n"
   ]
  },
  {
   "cell_type": "code",
   "execution_count": 2,
   "metadata": {},
   "outputs": [
    {
     "name": "stdout",
     "output_type": "stream",
     "text": [
      "/home/amaithi/anaconda3/envs/ml_ops/bin/python\n"
     ]
    }
   ],
   "source": [
    "import sys \n",
    "print(sys.executable)"
   ]
  },
  {
   "cell_type": "code",
   "execution_count": 3,
   "metadata": {},
   "outputs": [],
   "source": [
    "def data_load(path):\n",
    "    df = pd.read_csv(path)\n",
    "    return df \n",
    "    \n",
    "    "
   ]
  },
  {
   "cell_type": "code",
   "execution_count": 4,
   "metadata": {},
   "outputs": [
    {
     "data": {
      "text/html": [
       "<div>\n",
       "<style scoped>\n",
       "    .dataframe tbody tr th:only-of-type {\n",
       "        vertical-align: middle;\n",
       "    }\n",
       "\n",
       "    .dataframe tbody tr th {\n",
       "        vertical-align: top;\n",
       "    }\n",
       "\n",
       "    .dataframe thead th {\n",
       "        text-align: right;\n",
       "    }\n",
       "</style>\n",
       "<table border=\"1\" class=\"dataframe\">\n",
       "  <thead>\n",
       "    <tr style=\"text-align: right;\">\n",
       "      <th></th>\n",
       "      <th>age</th>\n",
       "      <th>job</th>\n",
       "      <th>marital</th>\n",
       "      <th>education</th>\n",
       "      <th>default</th>\n",
       "      <th>housing</th>\n",
       "      <th>loan</th>\n",
       "      <th>contact</th>\n",
       "      <th>month</th>\n",
       "      <th>day_of_week</th>\n",
       "      <th>...</th>\n",
       "      <th>campaign</th>\n",
       "      <th>pdays</th>\n",
       "      <th>previous</th>\n",
       "      <th>poutcome</th>\n",
       "      <th>emp_var_rate</th>\n",
       "      <th>cons_price_idx</th>\n",
       "      <th>cons_conf_idx</th>\n",
       "      <th>euribor3m</th>\n",
       "      <th>nr_employed</th>\n",
       "      <th>y</th>\n",
       "    </tr>\n",
       "  </thead>\n",
       "  <tbody>\n",
       "    <tr>\n",
       "      <th>0</th>\n",
       "      <td>44</td>\n",
       "      <td>blue-collar</td>\n",
       "      <td>married</td>\n",
       "      <td>basic.4y</td>\n",
       "      <td>unknown</td>\n",
       "      <td>yes</td>\n",
       "      <td>no</td>\n",
       "      <td>cellular</td>\n",
       "      <td>aug</td>\n",
       "      <td>thu</td>\n",
       "      <td>...</td>\n",
       "      <td>1</td>\n",
       "      <td>999</td>\n",
       "      <td>0</td>\n",
       "      <td>nonexistent</td>\n",
       "      <td>1.4</td>\n",
       "      <td>93.444</td>\n",
       "      <td>-36.1</td>\n",
       "      <td>4.963</td>\n",
       "      <td>5228.1</td>\n",
       "      <td>0</td>\n",
       "    </tr>\n",
       "    <tr>\n",
       "      <th>1</th>\n",
       "      <td>53</td>\n",
       "      <td>technician</td>\n",
       "      <td>married</td>\n",
       "      <td>unknown</td>\n",
       "      <td>no</td>\n",
       "      <td>no</td>\n",
       "      <td>no</td>\n",
       "      <td>cellular</td>\n",
       "      <td>nov</td>\n",
       "      <td>fri</td>\n",
       "      <td>...</td>\n",
       "      <td>1</td>\n",
       "      <td>999</td>\n",
       "      <td>0</td>\n",
       "      <td>nonexistent</td>\n",
       "      <td>-0.1</td>\n",
       "      <td>93.200</td>\n",
       "      <td>-42.0</td>\n",
       "      <td>4.021</td>\n",
       "      <td>5195.8</td>\n",
       "      <td>0</td>\n",
       "    </tr>\n",
       "    <tr>\n",
       "      <th>2</th>\n",
       "      <td>28</td>\n",
       "      <td>management</td>\n",
       "      <td>single</td>\n",
       "      <td>university.degree</td>\n",
       "      <td>no</td>\n",
       "      <td>yes</td>\n",
       "      <td>no</td>\n",
       "      <td>cellular</td>\n",
       "      <td>jun</td>\n",
       "      <td>thu</td>\n",
       "      <td>...</td>\n",
       "      <td>3</td>\n",
       "      <td>6</td>\n",
       "      <td>2</td>\n",
       "      <td>success</td>\n",
       "      <td>-1.7</td>\n",
       "      <td>94.055</td>\n",
       "      <td>-39.8</td>\n",
       "      <td>0.729</td>\n",
       "      <td>4991.6</td>\n",
       "      <td>1</td>\n",
       "    </tr>\n",
       "    <tr>\n",
       "      <th>3</th>\n",
       "      <td>39</td>\n",
       "      <td>services</td>\n",
       "      <td>married</td>\n",
       "      <td>high.school</td>\n",
       "      <td>no</td>\n",
       "      <td>no</td>\n",
       "      <td>no</td>\n",
       "      <td>cellular</td>\n",
       "      <td>apr</td>\n",
       "      <td>fri</td>\n",
       "      <td>...</td>\n",
       "      <td>2</td>\n",
       "      <td>999</td>\n",
       "      <td>0</td>\n",
       "      <td>nonexistent</td>\n",
       "      <td>-1.8</td>\n",
       "      <td>93.075</td>\n",
       "      <td>-47.1</td>\n",
       "      <td>1.405</td>\n",
       "      <td>5099.1</td>\n",
       "      <td>0</td>\n",
       "    </tr>\n",
       "    <tr>\n",
       "      <th>4</th>\n",
       "      <td>55</td>\n",
       "      <td>retired</td>\n",
       "      <td>married</td>\n",
       "      <td>basic.4y</td>\n",
       "      <td>no</td>\n",
       "      <td>yes</td>\n",
       "      <td>no</td>\n",
       "      <td>cellular</td>\n",
       "      <td>aug</td>\n",
       "      <td>fri</td>\n",
       "      <td>...</td>\n",
       "      <td>1</td>\n",
       "      <td>3</td>\n",
       "      <td>1</td>\n",
       "      <td>success</td>\n",
       "      <td>-2.9</td>\n",
       "      <td>92.201</td>\n",
       "      <td>-31.4</td>\n",
       "      <td>0.869</td>\n",
       "      <td>5076.2</td>\n",
       "      <td>1</td>\n",
       "    </tr>\n",
       "  </tbody>\n",
       "</table>\n",
       "<p>5 rows × 21 columns</p>\n",
       "</div>"
      ],
      "text/plain": [
       "   age          job  marital          education  default housing loan   \n",
       "0   44  blue-collar  married           basic.4y  unknown     yes   no  \\\n",
       "1   53   technician  married            unknown       no      no   no   \n",
       "2   28   management   single  university.degree       no     yes   no   \n",
       "3   39     services  married        high.school       no      no   no   \n",
       "4   55      retired  married           basic.4y       no     yes   no   \n",
       "\n",
       "    contact month day_of_week  ...  campaign  pdays  previous     poutcome   \n",
       "0  cellular   aug         thu  ...         1    999         0  nonexistent  \\\n",
       "1  cellular   nov         fri  ...         1    999         0  nonexistent   \n",
       "2  cellular   jun         thu  ...         3      6         2      success   \n",
       "3  cellular   apr         fri  ...         2    999         0  nonexistent   \n",
       "4  cellular   aug         fri  ...         1      3         1      success   \n",
       "\n",
       "  emp_var_rate  cons_price_idx  cons_conf_idx  euribor3m  nr_employed  y  \n",
       "0          1.4          93.444          -36.1      4.963       5228.1  0  \n",
       "1         -0.1          93.200          -42.0      4.021       5195.8  0  \n",
       "2         -1.7          94.055          -39.8      0.729       4991.6  1  \n",
       "3         -1.8          93.075          -47.1      1.405       5099.1  0  \n",
       "4         -2.9          92.201          -31.4      0.869       5076.2  1  \n",
       "\n",
       "[5 rows x 21 columns]"
      ]
     },
     "execution_count": 4,
     "metadata": {},
     "output_type": "execute_result"
    }
   ],
   "source": [
    "data = data_load('../data/dataset_raw/banking.csv')\n",
    "data.head()"
   ]
  },
  {
   "cell_type": "code",
   "execution_count": 16,
   "metadata": {},
   "outputs": [
    {
     "name": "stdout",
     "output_type": "stream",
     "text": [
      "Missing Values\n",
      "\n",
      "(41188, 21)\n",
      "age               0.0\n",
      "job               0.0\n",
      "marital           0.0\n",
      "education         0.0\n",
      "default           0.0\n",
      "housing           0.0\n",
      "loan              0.0\n",
      "contact           0.0\n",
      "month             0.0\n",
      "day_of_week       0.0\n",
      "duration          0.0\n",
      "campaign          0.0\n",
      "pdays             0.0\n",
      "previous          0.0\n",
      "poutcome          0.0\n",
      "emp_var_rate      0.0\n",
      "cons_price_idx    0.0\n",
      "cons_conf_idx     0.0\n",
      "euribor3m         0.0\n",
      "nr_employed       0.0\n",
      "y                 0.0\n",
      "dtype: float64\n"
     ]
    }
   ],
   "source": [
    "def visualize_missing_values(data):\n",
    "    print(\"Missing Values\\n\")\n",
    "    print(data.shape)\n",
    "    print(100*(data.isna().sum())/len(data))\n",
    "\n",
    "visualize_missing_values(data)\n"
   ]
  },
  {
   "cell_type": "code",
   "execution_count": 17,
   "metadata": {},
   "outputs": [
    {
     "name": "stdout",
     "output_type": "stream",
     "text": [
      "After deleting missing values\n",
      "Missing Values\n",
      "\n",
      "(41188, 21)\n",
      "age               0.0\n",
      "job               0.0\n",
      "marital           0.0\n",
      "education         0.0\n",
      "default           0.0\n",
      "housing           0.0\n",
      "loan              0.0\n",
      "contact           0.0\n",
      "month             0.0\n",
      "day_of_week       0.0\n",
      "duration          0.0\n",
      "campaign          0.0\n",
      "pdays             0.0\n",
      "previous          0.0\n",
      "poutcome          0.0\n",
      "emp_var_rate      0.0\n",
      "cons_price_idx    0.0\n",
      "cons_conf_idx     0.0\n",
      "euribor3m         0.0\n",
      "nr_employed       0.0\n",
      "y                 0.0\n",
      "dtype: float64\n"
     ]
    }
   ],
   "source": [
    "def drop_missing_values(data):\n",
    "    data = data.dropna()\n",
    "    print(\"After deleting missing values\")\n",
    "    visualize_missing_values(data)\n",
    "    return data \n",
    "\n",
    "df1 = drop_missing_values(data)\n",
    "\n",
    "    "
   ]
  },
  {
   "cell_type": "code",
   "execution_count": 17,
   "metadata": {},
   "outputs": [
    {
     "ename": "NameError",
     "evalue": "name 'df1' is not defined",
     "output_type": "error",
     "traceback": [
      "\u001b[0;31m---------------------------------------------------------------------------\u001b[0m",
      "\u001b[0;31mNameError\u001b[0m                                 Traceback (most recent call last)",
      "Cell \u001b[0;32mIn[17], line 25\u001b[0m\n\u001b[1;32m     20\u001b[0m         file\u001b[39m.\u001b[39mwrite(json\u001b[39m.\u001b[39mdumps(\u001b[39mlist\u001b[39m))\n\u001b[1;32m     21\u001b[0m         file\u001b[39m.\u001b[39mclose()\n\u001b[0;32m---> 25\u001b[0m column_collector(df1)\n",
      "\u001b[0;31mNameError\u001b[0m: name 'df1' is not defined"
     ]
    }
   ],
   "source": [
    "import json\n",
    "categorical_cols = []\n",
    "numerical_cols = []\n",
    "\n",
    "def column_collector(data):\n",
    "    for col in data.columns:\n",
    "        if data[col].dtype == 'O':\n",
    "            categorical_cols.append(col)\n",
    "        else:\n",
    "            numerical_cols.append(col)\n",
    "    print(categorical_cols, end='\\n')\n",
    "\n",
    "    print(numerical_cols, end='\\n')\n",
    "    list = {\n",
    "        \"categorical_cols\": categorical_cols,\n",
    "        \"numerical_cols\": numerical_cols\n",
    "    }\n",
    "    # file = json.dumps(list)\n",
    "    with open(\"features.json\", \"w\") as file:\n",
    "        file.write(json.dumps(list))\n",
    "        file.close()\n",
    "\n",
    "\n",
    "\n",
    "column_collector(df1)\n"
   ]
  },
  {
   "cell_type": "code",
   "execution_count": 25,
   "metadata": {},
   "outputs": [
    {
     "name": "stdout",
     "output_type": "stream",
     "text": [
      "{'age': 'min 17 max 98',\n",
      " 'campaign': 'min 1 max 56',\n",
      " 'cons_conf_idx': 'min -50.8 max -26.9',\n",
      " 'cons_price_idx': 'min 92.201 max 94.767',\n",
      " 'contact': ['cellular', 'telephone'],\n",
      " 'day_of_week': ['thu', 'fri', 'tue', 'mon', 'wed'],\n",
      " 'default': ['unknown', 'no', 'yes'],\n",
      " 'duration': 'min 0 max 4918',\n",
      " 'education': ['basic.4y',\n",
      "               'unknown',\n",
      "               'university.degree',\n",
      "               'high.school',\n",
      "               'basic.9y',\n",
      "               'professional.course',\n",
      "               'basic.6y',\n",
      "               'illiterate'],\n",
      " 'emp_var_rate': 'min -3.4 max 1.4',\n",
      " 'euribor3m': 'min 0.634 max 5.045',\n",
      " 'housing': ['yes', 'no', 'unknown'],\n",
      " 'job': ['blue-collar',\n",
      "         'technician',\n",
      "         'management',\n",
      "         'services',\n",
      "         'retired',\n",
      "         'admin.',\n",
      "         'housemaid',\n",
      "         'unemployed',\n",
      "         'entrepreneur',\n",
      "         'self-employed',\n",
      "         'unknown',\n",
      "         'student'],\n",
      " 'loan': ['no', 'yes', 'unknown'],\n",
      " 'marital': ['married', 'single', 'divorced', 'unknown'],\n",
      " 'month': ['aug',\n",
      "           'nov',\n",
      "           'jun',\n",
      "           'apr',\n",
      "           'jul',\n",
      "           'may',\n",
      "           'oct',\n",
      "           'mar',\n",
      "           'sep',\n",
      "           'dec'],\n",
      " 'nr_employed': 'min 4963.6 max 5228.1',\n",
      " 'pdays': 'min 0 max 999',\n",
      " 'poutcome': ['nonexistent', 'success', 'failure'],\n",
      " 'previous': 'min 0 max 7'}\n"
     ]
    }
   ],
   "source": [
    "from pprint import pprint \n",
    "dicti = {}\n",
    "\n",
    "for col in data.columns:\n",
    "    if col == 'y':\n",
    "         continue\n",
    "    if data[col].dtype == 'O':\n",
    "        vals = data[col].unique().tolist()\n",
    "        # print(vals)\n",
    "        dicti[col] = vals\n",
    "        # categorical_cols.append(col)\n",
    "    else:\n",
    "            min_valu = data[col].min()\n",
    "            max_valu = data[col].max()\n",
    "            val = f\"min {min_valu} max {max_valu}\"\n",
    "        #  print(val)\n",
    "            dicti[col] = val\n",
    "\n",
    "pprint(dicti)\n",
    "\n"
   ]
  },
  {
   "cell_type": "code",
   "execution_count": 9,
   "metadata": {},
   "outputs": [
    {
     "ename": "TypeError",
     "evalue": "'Index' object is not callable",
     "output_type": "error",
     "traceback": [
      "\u001b[0;31m---------------------------------------------------------------------------\u001b[0m",
      "\u001b[0;31mTypeError\u001b[0m                                 Traceback (most recent call last)",
      "Cell \u001b[0;32mIn[9], line 1\u001b[0m\n\u001b[0;32m----> 1\u001b[0m \u001b[39mprint\u001b[39m(data\u001b[39m.\u001b[39;49mcolumns())\n",
      "\u001b[0;31mTypeError\u001b[0m: 'Index' object is not callable"
     ]
    }
   ],
   "source": [
    "print(data.columns())"
   ]
  },
  {
   "cell_type": "code",
   "execution_count": null,
   "metadata": {},
   "outputs": [],
   "source": []
  },
  {
   "cell_type": "code",
   "execution_count": null,
   "metadata": {},
   "outputs": [],
   "source": []
  },
  {
   "cell_type": "code",
   "execution_count": null,
   "metadata": {},
   "outputs": [],
   "source": []
  },
  {
   "cell_type": "code",
   "execution_count": null,
   "metadata": {},
   "outputs": [],
   "source": []
  },
  {
   "attachments": {},
   "cell_type": "markdown",
   "metadata": {},
   "source": []
  },
  {
   "attachments": {},
   "cell_type": "markdown",
   "metadata": {},
   "source": []
  },
  {
   "attachments": {},
   "cell_type": "markdown",
   "metadata": {},
   "source": []
  },
  {
   "attachments": {},
   "cell_type": "markdown",
   "metadata": {},
   "source": []
  },
  {
   "attachments": {},
   "cell_type": "markdown",
   "metadata": {},
   "source": []
  },
  {
   "attachments": {},
   "cell_type": "markdown",
   "metadata": {},
   "source": []
  },
  {
   "attachments": {},
   "cell_type": "markdown",
   "metadata": {},
   "source": []
  },
  {
   "attachments": {},
   "cell_type": "markdown",
   "metadata": {},
   "source": []
  },
  {
   "attachments": {},
   "cell_type": "markdown",
   "metadata": {},
   "source": []
  },
  {
   "attachments": {},
   "cell_type": "markdown",
   "metadata": {},
   "source": []
  },
  {
   "cell_type": "code",
   "execution_count": 8,
   "metadata": {},
   "outputs": [
    {
     "name": "stdout",
     "output_type": "stream",
     "text": [
      "Column Name : job\t\n",
      "['blue-collar' 'technician' 'management' 'services' 'retired' 'admin.'\n",
      " 'housemaid' 'unemployed' 'entrepreneur' 'self-employed' 'unknown'\n",
      " 'student']\n",
      "\n",
      "Column Name : marital\t\n",
      "['married' 'single' 'divorced' 'unknown']\n",
      "\n",
      "Column Name : education\t\n",
      "['basic.4y' 'unknown' 'university.degree' 'high.school' 'basic.9y'\n",
      " 'professional.course' 'basic.6y' 'illiterate']\n",
      "\n",
      "Column Name : default\t\n",
      "['unknown' 'no' 'yes']\n",
      "\n",
      "Column Name : housing\t\n",
      "['yes' 'no' 'unknown']\n",
      "\n",
      "Column Name : loan\t\n",
      "['no' 'yes' 'unknown']\n",
      "\n",
      "Column Name : contact\t\n",
      "['cellular' 'telephone']\n",
      "\n",
      "Column Name : month\t\n",
      "['aug' 'nov' 'jun' 'apr' 'jul' 'may' 'oct' 'mar' 'sep' 'dec']\n",
      "\n",
      "Column Name : day_of_week\t\n",
      "['thu' 'fri' 'tue' 'mon' 'wed']\n",
      "\n",
      "Column Name : poutcome\t\n",
      "['nonexistent' 'success' 'failure']\n",
      "\n"
     ]
    }
   ],
   "source": [
    "for col in categorical_cols:\n",
    "    print(f\"Column Name : {col}\\t\")\n",
    "    print(df1[col].unique(), end='\\n\\n')\n"
   ]
  },
  {
   "cell_type": "code",
   "execution_count": 9,
   "metadata": {},
   "outputs": [],
   "source": [
    "def preprocessing(data):\n",
    "    data['education']=np.where(data['education'] == 'basic.4y', \"Basic\", data['education'])\n",
    "    data['education']=np.where(data['education'] == 'basic.6y', \"Basic\", data['education'])\n",
    "    data['education']=np.where(data['education'] == 'basic.9y', \"Basic\", data['education'])\n",
    "\n",
    "    for var in categorical_cols:\n",
    "        cat_list = 'var'+'_'+var\n",
    "        cat_list = pd.get_dummies(data[var], prefix=var)\n",
    "        data1 = data.join(cat_list)\n",
    "        data = data1\n",
    "    data_vars=data.columns.values.tolist()\n",
    "    to_keep = [i for i in data_vars if i not in categorical_cols]\n",
    "\n",
    "    final_data = data[to_keep]\n",
    "\n",
    "    final_data.columns = final_data.columns.str.replace('-', '_')\n",
    "    final_data.columns = final_data.columns.str.replace(' ', '_')\n",
    "\n",
    "    return final_data\n",
    "\n",
    "\n"
   ]
  },
  {
   "cell_type": "code",
   "execution_count": 10,
   "metadata": {},
   "outputs": [],
   "source": [
    "cleaned_data = preprocessing(df1)"
   ]
  },
  {
   "attachments": {},
   "cell_type": "markdown",
   "metadata": {},
   "source": [
    "------------------- EDA Done ----------------"
   ]
  },
  {
   "cell_type": "code",
   "execution_count": 11,
   "metadata": {},
   "outputs": [],
   "source": [
    "def train_and_test_split(data):\n",
    "    from sklearn.model_selection import train_test_split \n",
    "    X = data.loc[:, data.columns != 'y']\n",
    "    y = data.loc[:, data.columns == 'y']\n",
    "\n",
    "    X_train, X_test, y_train, y_test = train_test_split(X, y, test_size=0.3, stratify= y, random_state=45)\n",
    "\n",
    "    return X_train, X_test, y_train, y_test"
   ]
  },
  {
   "cell_type": "code",
   "execution_count": null,
   "metadata": {},
   "outputs": [],
   "source": []
  },
  {
   "cell_type": "code",
   "execution_count": 12,
   "metadata": {},
   "outputs": [],
   "source": [
    "def over_sampling_target_clss(X_train, y_train):\n",
    "    # Over Sampling using SMOTE \n",
    "\n",
    "    from imblearn.over_sampling import SMOTE \n",
    "    os = SMOTE(random_state=0)\n",
    "\n",
    "    columns = X_train.columns\n",
    "    os_data_X, os_data_y = os.fit_resample(X_train, y_train)\n",
    "\n",
    "    os_data_X = pd.DataFrame(data=os_data_X, columns=columns)\n",
    "    os_data_y = pd.DataFrame(data = os_data_y, columns= ['y'])\n",
    "\n",
    "    # Check the numbers of data \n",
    "\n",
    "    print(\"Length of the oversampled data is \", len(os_data_X), end='\\n')\n",
    "    print(\"Number of no subscription in oversampled data is \", len(os_data_y[os_data_y['y']==0]), end='\\n')\n",
    "    print(\"Number of subscription \", len(os_data_y[os_data_y['y']==1]), end='\\n')\n",
    "    print(\"Proportion of no subscription data in oversampled data is \",len(os_data_y[os_data_y['y']==0])/len(os_data_X))\n",
    "    print(\"Proportion of subscription data in oversampled data is \",len(os_data_y[os_data_y['y']==1])/len(os_data_X))\n",
    "\n",
    "    X_train = os_data_X \n",
    "    y_train = os_data_y['y']\n",
    "\n",
    "    return X_train, y_train\n",
    "    \n",
    "        "
   ]
  },
  {
   "cell_type": "code",
   "execution_count": 13,
   "metadata": {},
   "outputs": [],
   "source": [
    "def train_basic_classifier(X_train, y_train):\n",
    "    from sklearn.ensemble import RandomForestClassifier\n",
    "    model = RandomForestClassifier(n_estimators=100)\n",
    "    model.fit(X_train, y_train)\n",
    "\n",
    "    return model \n"
   ]
  },
  {
   "cell_type": "code",
   "execution_count": 14,
   "metadata": {},
   "outputs": [],
   "source": [
    "def predict_on_test_data(model, x_test):\n",
    "    pred = model.predict(x_test)\n",
    "    return pred \n",
    "    "
   ]
  },
  {
   "cell_type": "code",
   "execution_count": 15,
   "metadata": {},
   "outputs": [],
   "source": [
    "def predict_prob_on_test_data(model, x_test):\n",
    "    y_pred = model.predict_proba(x_test)\n",
    "    return y_pred "
   ]
  },
  {
   "cell_type": "code",
   "execution_count": 16,
   "metadata": {},
   "outputs": [],
   "source": [
    "def get_metrics(y_true, y_pred, y_pred_prob):\n",
    "    from sklearn.metrics import accuracy_score, precision_score, recall_score, log_loss\n",
    "    \n",
    "    acc = accuracy_score(y_true=y_true, y_pred=y_pred)\n",
    "    prec = precision_score(y_true, y_pred)\n",
    "    recall = recall_score(y_true, y_pred)\n",
    "    entropy = log_loss(y_true, y_pred_prob)\n",
    "\n",
    "    return {'accuracy': round(acc, 2), 'precision': round(prec, 2), 'recall': round(recall, 2), 'entropy': round(entropy, 2)}"
   ]
  },
  {
   "cell_type": "code",
   "execution_count": 17,
   "metadata": {},
   "outputs": [],
   "source": [
    "def create_roc_auc_plot(clf, x_data, y_data):\n",
    "    import matplotlib.pyplot as plt\n",
    "    from sklearn.metrics import RocCurveDisplay\n",
    "    RocCurveDisplay.from_estimator(clf, x_data, y_data)\n",
    "    plt.savefig('roc_auc_curve.png')"
   ]
  },
  {
   "cell_type": "code",
   "execution_count": 18,
   "metadata": {},
   "outputs": [],
   "source": [
    "def create_confusion_matric(clf, x_test, y_test):\n",
    "    import matplotlib.pyplot as plt \n",
    "    from sklearn.metrics import ConfusionMatrixDisplay\n",
    "    ConfusionMatrixDisplay.from_estimator(clf, x_test, y_test)\n",
    "    plt.savefig('confusion_matrrix.png')\n",
    "    "
   ]
  },
  {
   "cell_type": "code",
   "execution_count": 19,
   "metadata": {},
   "outputs": [],
   "source": [
    "def hyper_parameter_tuning(X_train, y_train):\n",
    "    # define random parameters grid\n",
    "    n_estimators = [5,21,51,101] # number of trees in the random forest\n",
    "    max_features = ['auto', 'sqrt'] # number of features in consideration at every split\n",
    "    max_depth = [int(x) for x in np.linspace(10, 120, num = 12)] # maximum number of levels allowed in each decision tree\n",
    "    min_samples_split = [2, 6, 10] # minimum sample number to split a node\n",
    "    min_samples_leaf = [1, 3, 4] # minimum sample number that can be stored in a leaf node\n",
    "    bootstrap = [True, False] # method used to sample data points\n",
    "\n",
    "    random_grid = {'n_estimators': n_estimators,\n",
    "                    # 'max_features': max_features,\n",
    "                    'max_depth': max_depth,\n",
    "                    'min_samples_split': min_samples_split,\n",
    "                    'min_samples_leaf': min_samples_leaf,\n",
    "                    'bootstrap': bootstrap\n",
    "                  }\n",
    "    \n",
    "    from sklearn.model_selection import RandomizedSearchCV\n",
    "    from sklearn.ensemble import RandomForestClassifier\n",
    "    classifier = RandomForestClassifier()\n",
    "    model_tuning = RandomizedSearchCV(estimator = classifier, param_distributions = random_grid,\n",
    "                   n_iter = 100, cv = 1, verbose=1, random_state=35, n_jobs = -1)\n",
    "    model_tuning.fit(X_train, y_train)\n",
    "\n",
    "    print ('Random grid: ', random_grid, '\\n')\n",
    "    # print the best parameters\n",
    "    print ('Best Parameters: ', model_tuning.best_params_, ' \\n')\n",
    "\n",
    "    best_params = model_tuning.best_params_\n",
    "    \n",
    "    n_estimators = best_params['n_estimators']\n",
    "    min_samples_split = best_params['min_samples_split']\n",
    "    min_samples_leaf = best_params['min_samples_leaf']\n",
    "    max_features = best_params['max_features']\n",
    "    max_depth = best_params['max_depth']\n",
    "    bootstrap = best_params['bootstrap']\n",
    "    \n",
    "    model_tuned = RandomForestClassifier(n_estimators = n_estimators, min_samples_split = min_samples_split,\n",
    "                                         min_samples_leaf= min_samples_leaf, max_features = max_features,\n",
    "                                         max_depth= max_depth, bootstrap=bootstrap) \n",
    "    model_tuned.fit( X_train, y_train)\n",
    "    return model_tuned,best_params"
   ]
  },
  {
   "attachments": {},
   "cell_type": "markdown",
   "metadata": {},
   "source": [
    "----------------------------------------------Model Building and Hyper Parameter Tuning-------------------"
   ]
  },
  {
   "cell_type": "code",
   "execution_count": 26,
   "metadata": {},
   "outputs": [],
   "source": [
    "X_train, X_test, y_train, y_test = train_and_test_split(cleaned_data)"
   ]
  },
  {
   "cell_type": "code",
   "execution_count": 27,
   "metadata": {},
   "outputs": [
    {
     "name": "stdout",
     "output_type": "stream",
     "text": [
      "Length of the oversampled data is  51166\n",
      "Number of no subscription in oversampled data is  25583\n",
      "Number of subscription  25583\n",
      "Proportion of no subscription data in oversampled data is  0.5\n",
      "Proportion of subscription data in oversampled data is  0.5\n"
     ]
    }
   ],
   "source": [
    "X_train, y_train = over_sampling_target_clss(X_train, y_train)"
   ]
  },
  {
   "cell_type": "code",
   "execution_count": 28,
   "metadata": {},
   "outputs": [],
   "source": [
    "basic_model = train_basic_classifier(X_train, y_train)"
   ]
  },
  {
   "cell_type": "code",
   "execution_count": 29,
   "metadata": {},
   "outputs": [],
   "source": [
    "pred = predict_on_test_data(basic_model, X_test)"
   ]
  },
  {
   "cell_type": "code",
   "execution_count": 30,
   "metadata": {},
   "outputs": [],
   "source": [
    "pred_prob = predict_prob_on_test_data(basic_model, X_test)"
   ]
  },
  {
   "cell_type": "code",
   "execution_count": 31,
   "metadata": {},
   "outputs": [
    {
     "data": {
      "text/plain": [
       "{'accuracy': 0.91, 'precision': 0.62, 'recall': 0.52, 'entropy': 0.2}"
      ]
     },
     "execution_count": 31,
     "metadata": {},
     "output_type": "execute_result"
    }
   ],
   "source": [
    "get_metrics(y_test, pred, pred_prob)"
   ]
  },
  {
   "cell_type": "code",
   "execution_count": 32,
   "metadata": {},
   "outputs": [
    {
     "data": {
      "image/png": "[encoded data removed]",
      "text/plain": [
       "<Figure size 640x480 with 1 Axes>"
      ]
     },
     "metadata": {},
     "output_type": "display_data"
    }
   ],
   "source": [
    "create_roc_auc_plot(basic_model, X_test, y_test)"
   ]
  },
  {
   "cell_type": "code",
   "execution_count": 33,
   "metadata": {},
   "outputs": [
    {
     "data": {
      "image/png": "[encoded data removed]",
      "text/plain": [
       "<Figure size 640x480 with 2 Axes>"
      ]
     },
     "metadata": {},
     "output_type": "display_data"
    }
   ],
   "source": [
    "create_confusion_matric(basic_model, X_test, y_test)"
   ]
  },
  {
   "attachments": {},
   "cell_type": "markdown",
   "metadata": {},
   "source": [
    "---------------ml Flow---------------------"
   ]
  },
  {
   "cell_type": "code",
   "execution_count": 40,
   "metadata": {},
   "outputs": [
    {
     "name": "stdout",
     "output_type": "stream",
     "text": [
      "{'accuracy': 0.91, 'precision': 0.62, 'recall': 0.52, 'entropy': 0.2}\n"
     ]
    }
   ],
   "source": [
    "experiment_name = 'basic Classifier 123'\n",
    "run_name = 'Bank dataset'\n",
    "run_metrics = get_metrics(y_test, pred, pred_prob)\n",
    "print(run_metrics)"
   ]
  },
  {
   "cell_type": "code",
   "execution_count": 41,
   "metadata": {},
   "outputs": [],
   "source": [
    "import mlflow \n",
    "\n",
    "def create_experiment(experiment_name,\n",
    "                        run_name,\n",
    "                        run_metrics,\n",
    "                        model,\n",
    "                        confusion_matrix_path= None,\n",
    "                        roc_auc_plot_path=None,\n",
    "                        run_params=None                 \n",
    "                    ):\n",
    "    mlflow.set_experiment(experiment_name=experiment_name)\n",
    "    \n",
    "    mlflow.set_tracking_uri('http://0.0.0.0:1234')\n",
    "\n",
    "    with mlflow.start_run():\n",
    "\n",
    "        if not run_params == None:\n",
    "            for param in run_params:\n",
    "                mlflow.log_param(param, run_params[param])\n",
    "\n",
    "        for metric in run_metrics:\n",
    "            mlflow.log_metric(metric, run_metrics[metric])\n",
    "        \n",
    "        mlflow.sklearn.log_model(model, \"model\")\n",
    "\n",
    "        if not confusion_matrix_path == None:\n",
    "            mlflow.log_artifact(confusion_matrix_path, 'confusion_materix')\n",
    "\n",
    "        if not roc_auc_plot_path == None:\n",
    "            mlflow.log_artifact(roc_auc_plot_path, \"roc_auc_plot\")\n",
    "\n",
    "        mlflow.set_tag(\"tag1\", \"Random Forest\")\n",
    "        mlflow.set_tags({\"tag2\":\"Randomized Search CV\", \"tag3\":\"Production\"})\n",
    "\n",
    "    \n",
    "    print('Run - %s is logged to Experiment - %s' %(run_name, experiment_name))\n",
    "\n",
    "\n",
    "        "
   ]
  },
  {
   "cell_type": "code",
   "execution_count": 42,
   "metadata": {},
   "outputs": [
    {
     "name": "stderr",
     "output_type": "stream",
     "text": [
      "2023/05/23 13:12:01 INFO mlflow.tracking.fluent: Experiment with name 'basic Classifier 123' does not exist. Creating a new experiment.\n"
     ]
    },
    {
     "name": "stdout",
     "output_type": "stream",
     "text": [
      "Run - Bank dataset is logged to Experiment - basic Classifier 123\n"
     ]
    }
   ],
   "source": [
    "create_experiment(experiment_name,run_name,run_metrics,basic_model, 'confusion_matrrix.png', 'roc_auc_curve.png')"
   ]
  },
  {
   "attachments": {},
   "cell_type": "markdown",
   "metadata": {},
   "source": [
    "Create another experiment after tuning hyperparameters and log the best set of parameters for which model gives the optimal performance"
   ]
  },
  {
   "attachments": {},
   "cell_type": "markdown",
   "metadata": {},
   "source": [
    "mlflow ui -> to run the ui in the local host"
   ]
  },
  {
   "cell_type": "code",
   "execution_count": 25,
   "metadata": {},
   "outputs": [
    {
     "ename": "ValueError",
     "evalue": "k-fold cross-validation requires at least one train/test split by setting n_splits=2 or more, got n_splits=1.",
     "output_type": "error",
     "traceback": [
      "\u001b[0;31m---------------------------------------------------------------------------\u001b[0m",
      "\u001b[0;31mValueError\u001b[0m                                Traceback (most recent call last)",
      "Cell \u001b[0;32mIn[25], line 3\u001b[0m\n\u001b[1;32m      1\u001b[0m experiment_name \u001b[39m=\u001b[39m \u001b[39m\"\u001b[39m\u001b[39mOptimized Model 1\u001b[39m\u001b[39m\"\u001b[39m\n\u001b[1;32m      2\u001b[0m run_name \u001b[39m=\u001b[39m \u001b[39m\"\u001b[39m\u001b[39mRandom Search CV Tuned Model 1\u001b[39m\u001b[39m\"\u001b[39m\n\u001b[0;32m----> 3\u001b[0m model_tuned,best_params \u001b[39m=\u001b[39m hyper_parameter_tuning(X_train, y_train)\n\u001b[1;32m      4\u001b[0m run_params \u001b[39m=\u001b[39m best_params\n\u001b[1;32m      6\u001b[0m y_pred \u001b[39m=\u001b[39m predict_on_test_data(model_tuned,X_test) \u001b[39m#will return the predicted class\u001b[39;00m\n",
      "Cell \u001b[0;32mIn[19], line 23\u001b[0m, in \u001b[0;36mhyper_parameter_tuning\u001b[0;34m(X_train, y_train)\u001b[0m\n\u001b[1;32m     20\u001b[0m classifier \u001b[39m=\u001b[39m RandomForestClassifier()\n\u001b[1;32m     21\u001b[0m model_tuning \u001b[39m=\u001b[39m RandomizedSearchCV(estimator \u001b[39m=\u001b[39m classifier, param_distributions \u001b[39m=\u001b[39m random_grid,\n\u001b[1;32m     22\u001b[0m                n_iter \u001b[39m=\u001b[39m \u001b[39m100\u001b[39m, cv \u001b[39m=\u001b[39m \u001b[39m1\u001b[39m, verbose\u001b[39m=\u001b[39m\u001b[39m1\u001b[39m, random_state\u001b[39m=\u001b[39m\u001b[39m35\u001b[39m, n_jobs \u001b[39m=\u001b[39m \u001b[39m-\u001b[39m\u001b[39m1\u001b[39m)\n\u001b[0;32m---> 23\u001b[0m model_tuning\u001b[39m.\u001b[39;49mfit(X_train, y_train)\n\u001b[1;32m     25\u001b[0m \u001b[39mprint\u001b[39m (\u001b[39m'\u001b[39m\u001b[39mRandom grid: \u001b[39m\u001b[39m'\u001b[39m, random_grid, \u001b[39m'\u001b[39m\u001b[39m\\n\u001b[39;00m\u001b[39m'\u001b[39m)\n\u001b[1;32m     26\u001b[0m \u001b[39m# print the best parameters\u001b[39;00m\n",
      "File \u001b[0;32m~/anaconda3/envs/ml_ops/lib/python3.9/site-packages/sklearn/model_selection/_search.py:785\u001b[0m, in \u001b[0;36mBaseSearchCV.fit\u001b[0;34m(self, X, y, groups, **fit_params)\u001b[0m\n\u001b[1;32m    782\u001b[0m X, y, groups \u001b[39m=\u001b[39m indexable(X, y, groups)\n\u001b[1;32m    783\u001b[0m fit_params \u001b[39m=\u001b[39m _check_fit_params(X, fit_params)\n\u001b[0;32m--> 785\u001b[0m cv_orig \u001b[39m=\u001b[39m check_cv(\u001b[39mself\u001b[39;49m\u001b[39m.\u001b[39;49mcv, y, classifier\u001b[39m=\u001b[39;49mis_classifier(estimator))\n\u001b[1;32m    786\u001b[0m n_splits \u001b[39m=\u001b[39m cv_orig\u001b[39m.\u001b[39mget_n_splits(X, y, groups)\n\u001b[1;32m    788\u001b[0m base_estimator \u001b[39m=\u001b[39m clone(\u001b[39mself\u001b[39m\u001b[39m.\u001b[39mestimator)\n",
      "File \u001b[0;32m~/anaconda3/envs/ml_ops/lib/python3.9/site-packages/sklearn/model_selection/_split.py:2447\u001b[0m, in \u001b[0;36mcheck_cv\u001b[0;34m(cv, y, classifier)\u001b[0m\n\u001b[1;32m   2441\u001b[0m \u001b[39mif\u001b[39;00m \u001b[39misinstance\u001b[39m(cv, numbers\u001b[39m.\u001b[39mIntegral):\n\u001b[1;32m   2442\u001b[0m     \u001b[39mif\u001b[39;00m (\n\u001b[1;32m   2443\u001b[0m         classifier\n\u001b[1;32m   2444\u001b[0m         \u001b[39mand\u001b[39;00m (y \u001b[39mis\u001b[39;00m \u001b[39mnot\u001b[39;00m \u001b[39mNone\u001b[39;00m)\n\u001b[1;32m   2445\u001b[0m         \u001b[39mand\u001b[39;00m (type_of_target(y, input_name\u001b[39m=\u001b[39m\u001b[39m\"\u001b[39m\u001b[39my\u001b[39m\u001b[39m\"\u001b[39m) \u001b[39min\u001b[39;00m (\u001b[39m\"\u001b[39m\u001b[39mbinary\u001b[39m\u001b[39m\"\u001b[39m, \u001b[39m\"\u001b[39m\u001b[39mmulticlass\u001b[39m\u001b[39m\"\u001b[39m))\n\u001b[1;32m   2446\u001b[0m     ):\n\u001b[0;32m-> 2447\u001b[0m         \u001b[39mreturn\u001b[39;00m StratifiedKFold(cv)\n\u001b[1;32m   2448\u001b[0m     \u001b[39melse\u001b[39;00m:\n\u001b[1;32m   2449\u001b[0m         \u001b[39mreturn\u001b[39;00m KFold(cv)\n",
      "File \u001b[0;32m~/anaconda3/envs/ml_ops/lib/python3.9/site-packages/sklearn/model_selection/_split.py:668\u001b[0m, in \u001b[0;36mStratifiedKFold.__init__\u001b[0;34m(self, n_splits, shuffle, random_state)\u001b[0m\n\u001b[1;32m    667\u001b[0m \u001b[39mdef\u001b[39;00m \u001b[39m__init__\u001b[39m(\u001b[39mself\u001b[39m, n_splits\u001b[39m=\u001b[39m\u001b[39m5\u001b[39m, \u001b[39m*\u001b[39m, shuffle\u001b[39m=\u001b[39m\u001b[39mFalse\u001b[39;00m, random_state\u001b[39m=\u001b[39m\u001b[39mNone\u001b[39;00m):\n\u001b[0;32m--> 668\u001b[0m     \u001b[39msuper\u001b[39;49m()\u001b[39m.\u001b[39;49m\u001b[39m__init__\u001b[39;49m(n_splits\u001b[39m=\u001b[39;49mn_splits, shuffle\u001b[39m=\u001b[39;49mshuffle, random_state\u001b[39m=\u001b[39;49mrandom_state)\n",
      "File \u001b[0;32m~/anaconda3/envs/ml_ops/lib/python3.9/site-packages/sklearn/model_selection/_split.py:298\u001b[0m, in \u001b[0;36m_BaseKFold.__init__\u001b[0;34m(self, n_splits, shuffle, random_state)\u001b[0m\n\u001b[1;32m    295\u001b[0m n_splits \u001b[39m=\u001b[39m \u001b[39mint\u001b[39m(n_splits)\n\u001b[1;32m    297\u001b[0m \u001b[39mif\u001b[39;00m n_splits \u001b[39m<\u001b[39m\u001b[39m=\u001b[39m \u001b[39m1\u001b[39m:\n\u001b[0;32m--> 298\u001b[0m     \u001b[39mraise\u001b[39;00m \u001b[39mValueError\u001b[39;00m(\n\u001b[1;32m    299\u001b[0m         \u001b[39m\"\u001b[39m\u001b[39mk-fold cross-validation requires at least one\u001b[39m\u001b[39m\"\u001b[39m\n\u001b[1;32m    300\u001b[0m         \u001b[39m\"\u001b[39m\u001b[39m train/test split by setting n_splits=2 or more,\u001b[39m\u001b[39m\"\u001b[39m\n\u001b[1;32m    301\u001b[0m         \u001b[39m\"\u001b[39m\u001b[39m got n_splits=\u001b[39m\u001b[39m{0}\u001b[39;00m\u001b[39m.\u001b[39m\u001b[39m\"\u001b[39m\u001b[39m.\u001b[39mformat(n_splits)\n\u001b[1;32m    302\u001b[0m     )\n\u001b[1;32m    304\u001b[0m \u001b[39mif\u001b[39;00m \u001b[39mnot\u001b[39;00m \u001b[39misinstance\u001b[39m(shuffle, \u001b[39mbool\u001b[39m):\n\u001b[1;32m    305\u001b[0m     \u001b[39mraise\u001b[39;00m \u001b[39mTypeError\u001b[39;00m(\u001b[39m\"\u001b[39m\u001b[39mshuffle must be True or False; got \u001b[39m\u001b[39m{0}\u001b[39;00m\u001b[39m\"\u001b[39m\u001b[39m.\u001b[39mformat(shuffle))\n",
      "\u001b[0;31mValueError\u001b[0m: k-fold cross-validation requires at least one train/test split by setting n_splits=2 or more, got n_splits=1."
     ]
    }
   ],
   "source": [
    "experiment_name = \"Optimized Model 1\"\n",
    "run_name = \"Random Search CV Tuned Model 1\"\n",
    "model_tuned,best_params = hyper_parameter_tuning(X_train, y_train)\n",
    "run_params = best_params\n",
    "\n",
    "y_pred = predict_on_test_data(model_tuned,X_test) #will return the predicted class\n",
    "y_pred_prob = predict_prob_on_test_data(model_tuned,X_test) #model.predict_proba(X_test)\n",
    "run_metrics = get_metrics(y_test, y_pred, y_pred_prob)\n"
   ]
  },
  {
   "cell_type": "code",
   "execution_count": 34,
   "metadata": {},
   "outputs": [
    {
     "data": {
      "text/plain": [
       "{'accuracy': 0.91, 'precision': 0.62, 'recall': 0.57, 'entropy': 0.2}"
      ]
     },
     "execution_count": 34,
     "metadata": {},
     "output_type": "execute_result"
    }
   ],
   "source": [
    "run_metrics"
   ]
  },
  {
   "cell_type": "code",
   "execution_count": 35,
   "metadata": {},
   "outputs": [
    {
     "name": "stdout",
     "output_type": "stream",
     "text": [
      "n_estimators 21\n",
      "min_samples_split 10\n",
      "min_samples_leaf 1\n",
      "max_features auto\n",
      "max_depth 110\n",
      "bootstrap True\n"
     ]
    }
   ],
   "source": [
    "for param in run_params:\n",
    "    print(param, run_params[param])"
   ]
  },
  {
   "cell_type": "code",
   "execution_count": 36,
   "metadata": {},
   "outputs": [
    {
     "name": "stderr",
     "output_type": "stream",
     "text": [
      "2023/05/23 10:25:13 INFO mlflow.tracking.fluent: Experiment with name 'Optimized Model' does not exist. Creating a new experiment.\n"
     ]
    },
    {
     "name": "stdout",
     "output_type": "stream",
     "text": [
      "Run - Random Search CV Tuned Model is logged to Experiment - Optimized Model\n"
     ]
    }
   ],
   "source": [
    "create_experiment(experiment_name,run_name,run_metrics,model_tuned,'confusion_matrrix.png', 'roc_auc_curve.png',run_params)"
   ]
  },
  {
   "cell_type": "code",
   "execution_count": null,
   "metadata": {},
   "outputs": [],
   "source": []
  }
 ],
 "metadata": {
  "kernelspec": {
   "display_name": "Python 3 (ipykernel)",
   "language": "python",
   "name": "python3"
  },
  "language_info": {
   "codemirror_mode": {
    "name": "ipython",
    "version": 3
   },
   "file_extension": ".py",
   "mimetype": "text/x-python",
   "name": "python",
   "nbconvert_exporter": "python",
   "pygments_lexer": "ipython3",
   "version": "3.9.16"
  },
  "vscode": {
   "interpreter": {
    "hash": "ef1e6846e9cd151b877c0d825feabcf88a579ec5e4c6599a9c7a7639b171d041"
   }
  }
 },
 "nbformat": 4,
 "nbformat_minor": 2
}

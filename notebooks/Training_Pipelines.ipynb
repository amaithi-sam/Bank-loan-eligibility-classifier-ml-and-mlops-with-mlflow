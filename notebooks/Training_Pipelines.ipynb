{
 "cells": [
  {
   "cell_type": "code",
   "execution_count": 1,
   "id": "f72930c2",
   "metadata": {},
   "outputs": [],
   "source": [
    "import pandas as pd \n",
    "from sklearn import set_config\n",
    "set_config(display=\"diagram\")\n",
    "\n",
    "\n",
    "from sklearn.preprocessing import StandardScaler, OneHotEncoder, LabelEncoder\n",
    "from sklearn.compose import ColumnTransformer\n",
    "from sklearn.preprocessing import FunctionTransformer\n",
    "\n",
    "from sklearn.impute import SimpleImputer\n",
    "from sklearn.pipeline import Pipeline, make_pipeline \n",
    "\n",
    "from sklearn_pandas import DataFrameMapper\n",
    "from feature_engine.imputation import DropMissingData\n",
    "\n",
    "\n",
    "import sklearn.metrics as metrics\n",
    "from sklearn.metrics import accuracy_score\n",
    "from sklearn.metrics import f1_score\n",
    "from sklearn.metrics import precision_score\n",
    "from sklearn.metrics import recall_score\n",
    "\n",
    "import numpy as np \n",
    "\n",
    "import joblib "
   ]
  },
  {
   "cell_type": "code",
   "execution_count": 5,
   "id": "a407c860",
   "metadata": {},
   "outputs": [],
   "source": [
    "df = pd.read_csv(\"../data/dataset_processed/banking_processed.csv\", sep=',')"
   ]
  },
  {
   "cell_type": "code",
   "execution_count": 6,
   "id": "f331a239",
   "metadata": {},
   "outputs": [
    {
     "data": {
      "text/html": [
       "<div>\n",
       "<style scoped>\n",
       "    .dataframe tbody tr th:only-of-type {\n",
       "        vertical-align: middle;\n",
       "    }\n",
       "\n",
       "    .dataframe tbody tr th {\n",
       "        vertical-align: top;\n",
       "    }\n",
       "\n",
       "    .dataframe thead th {\n",
       "        text-align: right;\n",
       "    }\n",
       "</style>\n",
       "<table border=\"1\" class=\"dataframe\">\n",
       "  <thead>\n",
       "    <tr style=\"text-align: right;\">\n",
       "      <th></th>\n",
       "      <th>age</th>\n",
       "      <th>duration</th>\n",
       "      <th>campaign</th>\n",
       "      <th>pdays</th>\n",
       "      <th>previous</th>\n",
       "      <th>emp_var_rate</th>\n",
       "      <th>cons_price_idx</th>\n",
       "      <th>cons_conf_idx</th>\n",
       "      <th>euribor3m</th>\n",
       "      <th>nr_employed</th>\n",
       "      <th>...</th>\n",
       "      <th>housing_no</th>\n",
       "      <th>housing_unknown</th>\n",
       "      <th>housing_yes</th>\n",
       "      <th>loan_no</th>\n",
       "      <th>loan_unknown</th>\n",
       "      <th>loan_yes</th>\n",
       "      <th>poutcome_failure</th>\n",
       "      <th>poutcome_nonexistent</th>\n",
       "      <th>poutcome_success</th>\n",
       "      <th>y</th>\n",
       "    </tr>\n",
       "  </thead>\n",
       "  <tbody>\n",
       "    <tr>\n",
       "      <th>0</th>\n",
       "      <td>0.381527</td>\n",
       "      <td>-0.186230</td>\n",
       "      <td>-0.565922</td>\n",
       "      <td>0.195414</td>\n",
       "      <td>-0.349494</td>\n",
       "      <td>0.839061</td>\n",
       "      <td>-0.227465</td>\n",
       "      <td>0.951267</td>\n",
       "      <td>0.773575</td>\n",
       "      <td>0.845170</td>\n",
       "      <td>...</td>\n",
       "      <td>0.0</td>\n",
       "      <td>0.0</td>\n",
       "      <td>1.0</td>\n",
       "      <td>1.0</td>\n",
       "      <td>0.0</td>\n",
       "      <td>0.0</td>\n",
       "      <td>0.0</td>\n",
       "      <td>1.0</td>\n",
       "      <td>0.0</td>\n",
       "      <td>0</td>\n",
       "    </tr>\n",
       "    <tr>\n",
       "      <th>1</th>\n",
       "      <td>1.245157</td>\n",
       "      <td>-0.463926</td>\n",
       "      <td>-0.565922</td>\n",
       "      <td>0.195414</td>\n",
       "      <td>-0.349494</td>\n",
       "      <td>-0.115781</td>\n",
       "      <td>-0.649003</td>\n",
       "      <td>-0.323542</td>\n",
       "      <td>0.230456</td>\n",
       "      <td>0.398115</td>\n",
       "      <td>...</td>\n",
       "      <td>1.0</td>\n",
       "      <td>0.0</td>\n",
       "      <td>0.0</td>\n",
       "      <td>1.0</td>\n",
       "      <td>0.0</td>\n",
       "      <td>0.0</td>\n",
       "      <td>0.0</td>\n",
       "      <td>1.0</td>\n",
       "      <td>0.0</td>\n",
       "      <td>0</td>\n",
       "    </tr>\n",
       "    <tr>\n",
       "      <th>2</th>\n",
       "      <td>-1.153816</td>\n",
       "      <td>0.311309</td>\n",
       "      <td>0.156105</td>\n",
       "      <td>-5.117342</td>\n",
       "      <td>3.691766</td>\n",
       "      <td>-1.134279</td>\n",
       "      <td>0.828107</td>\n",
       "      <td>0.151810</td>\n",
       "      <td>-1.667578</td>\n",
       "      <td>-2.428157</td>\n",
       "      <td>...</td>\n",
       "      <td>0.0</td>\n",
       "      <td>0.0</td>\n",
       "      <td>1.0</td>\n",
       "      <td>1.0</td>\n",
       "      <td>0.0</td>\n",
       "      <td>0.0</td>\n",
       "      <td>0.0</td>\n",
       "      <td>0.0</td>\n",
       "      <td>1.0</td>\n",
       "      <td>1</td>\n",
       "    </tr>\n",
       "    <tr>\n",
       "      <th>3</th>\n",
       "      <td>-0.098268</td>\n",
       "      <td>-0.282652</td>\n",
       "      <td>-0.204909</td>\n",
       "      <td>0.195414</td>\n",
       "      <td>-0.349494</td>\n",
       "      <td>-1.197935</td>\n",
       "      <td>-0.864955</td>\n",
       "      <td>-1.425496</td>\n",
       "      <td>-1.277824</td>\n",
       "      <td>-0.940281</td>\n",
       "      <td>...</td>\n",
       "      <td>1.0</td>\n",
       "      <td>0.0</td>\n",
       "      <td>0.0</td>\n",
       "      <td>1.0</td>\n",
       "      <td>0.0</td>\n",
       "      <td>0.0</td>\n",
       "      <td>0.0</td>\n",
       "      <td>1.0</td>\n",
       "      <td>0.0</td>\n",
       "      <td>0</td>\n",
       "    </tr>\n",
       "    <tr>\n",
       "      <th>4</th>\n",
       "      <td>1.437075</td>\n",
       "      <td>-0.467783</td>\n",
       "      <td>-0.565922</td>\n",
       "      <td>-5.133393</td>\n",
       "      <td>1.671136</td>\n",
       "      <td>-1.898153</td>\n",
       "      <td>-2.374889</td>\n",
       "      <td>1.966794</td>\n",
       "      <td>-1.586859</td>\n",
       "      <td>-1.257233</td>\n",
       "      <td>...</td>\n",
       "      <td>0.0</td>\n",
       "      <td>0.0</td>\n",
       "      <td>1.0</td>\n",
       "      <td>1.0</td>\n",
       "      <td>0.0</td>\n",
       "      <td>0.0</td>\n",
       "      <td>0.0</td>\n",
       "      <td>0.0</td>\n",
       "      <td>1.0</td>\n",
       "      <td>1</td>\n",
       "    </tr>\n",
       "  </tbody>\n",
       "</table>\n",
       "<p>5 rows × 30 columns</p>\n",
       "</div>"
      ],
      "text/plain": [
       "        age  duration  campaign     pdays  previous  emp_var_rate   \n",
       "0  0.381527 -0.186230 -0.565922  0.195414 -0.349494      0.839061  \\\n",
       "1  1.245157 -0.463926 -0.565922  0.195414 -0.349494     -0.115781   \n",
       "2 -1.153816  0.311309  0.156105 -5.117342  3.691766     -1.134279   \n",
       "3 -0.098268 -0.282652 -0.204909  0.195414 -0.349494     -1.197935   \n",
       "4  1.437075 -0.467783 -0.565922 -5.133393  1.671136     -1.898153   \n",
       "\n",
       "   cons_price_idx  cons_conf_idx  euribor3m  nr_employed  ...  housing_no   \n",
       "0       -0.227465       0.951267   0.773575     0.845170  ...         0.0  \\\n",
       "1       -0.649003      -0.323542   0.230456     0.398115  ...         1.0   \n",
       "2        0.828107       0.151810  -1.667578    -2.428157  ...         0.0   \n",
       "3       -0.864955      -1.425496  -1.277824    -0.940281  ...         1.0   \n",
       "4       -2.374889       1.966794  -1.586859    -1.257233  ...         0.0   \n",
       "\n",
       "   housing_unknown  housing_yes  loan_no  loan_unknown  loan_yes   \n",
       "0              0.0          1.0      1.0           0.0       0.0  \\\n",
       "1              0.0          0.0      1.0           0.0       0.0   \n",
       "2              0.0          1.0      1.0           0.0       0.0   \n",
       "3              0.0          0.0      1.0           0.0       0.0   \n",
       "4              0.0          1.0      1.0           0.0       0.0   \n",
       "\n",
       "   poutcome_failure  poutcome_nonexistent  poutcome_success  y  \n",
       "0               0.0                   1.0               0.0  0  \n",
       "1               0.0                   1.0               0.0  0  \n",
       "2               0.0                   0.0               1.0  1  \n",
       "3               0.0                   1.0               0.0  0  \n",
       "4               0.0                   0.0               1.0  1  \n",
       "\n",
       "[5 rows x 30 columns]"
      ]
     },
     "execution_count": 6,
     "metadata": {},
     "output_type": "execute_result"
    }
   ],
   "source": [
    "df.head()"
   ]
  },
  {
   "cell_type": "code",
   "execution_count": 7,
   "id": "12fdca9d",
   "metadata": {},
   "outputs": [],
   "source": [
    "X = df.drop(['y'], axis=1)\n",
    "y = df['y']"
   ]
  },
  {
   "cell_type": "code",
   "execution_count": 11,
   "id": "962c7d5f",
   "metadata": {},
   "outputs": [
    {
     "data": {
      "text/plain": [
       "(41188,)"
      ]
     },
     "execution_count": 11,
     "metadata": {},
     "output_type": "execute_result"
    }
   ],
   "source": [
    "y.shape"
   ]
  },
  {
   "cell_type": "code",
   "execution_count": 13,
   "id": "cd3734a6",
   "metadata": {},
   "outputs": [],
   "source": [
    "from sklearn.model_selection import train_test_split\n",
    "\n",
    "X_train, X_test, y_train, y_test = train_test_split(X, y, random_state=42, test_size=0.2)"
   ]
  },
  {
   "cell_type": "code",
   "execution_count": 14,
   "id": "7a3f5e44",
   "metadata": {},
   "outputs": [],
   "source": [
    "from sklearn.ensemble import RandomForestClassifier\n",
    "\n",
    "clas = RandomForestClassifier()"
   ]
  },
  {
   "cell_type": "code",
   "execution_count": 16,
   "id": "84ab98a4",
   "metadata": {},
   "outputs": [
    {
     "ename": "TypeError",
     "evalue": "fit() got an unexpected keyword argument 'verbose'",
     "output_type": "error",
     "traceback": [
      "\u001b[0;31m---------------------------------------------------------------------------\u001b[0m",
      "\u001b[0;31mTypeError\u001b[0m                                 Traceback (most recent call last)",
      "Cell \u001b[0;32mIn[16], line 1\u001b[0m\n\u001b[0;32m----> 1\u001b[0m clas\u001b[39m.\u001b[39;49mfit(X_train, y_train, verbose\u001b[39m=\u001b[39;49m\u001b[39m1\u001b[39;49m)\n",
      "\u001b[0;31mTypeError\u001b[0m: fit() got an unexpected keyword argument 'verbose'"
     ]
    }
   ],
   "source": [
    "clas.fit(X_train, y_train)"
   ]
  },
  {
   "cell_type": "code",
   "execution_count": 18,
   "id": "4b4b79ec",
   "metadata": {},
   "outputs": [],
   "source": [
    "y_pred = clas.predict(X_test)"
   ]
  },
  {
   "cell_type": "code",
   "execution_count": 19,
   "id": "f077776c",
   "metadata": {},
   "outputs": [
    {
     "data": {
      "text/plain": [
       "array([0, 0, 0, ..., 0, 1, 0])"
      ]
     },
     "execution_count": 19,
     "metadata": {},
     "output_type": "execute_result"
    }
   ],
   "source": [
    "y_pred"
   ]
  },
  {
   "cell_type": "code",
   "execution_count": 20,
   "id": "2723853e",
   "metadata": {},
   "outputs": [],
   "source": [
    "def predict_prob_on_test_data(model,X_test):\n",
    "    y_pred = model.predict_proba(X_test)\n",
    "    return y_pred\n",
    "\n",
    "pred_prob = predict_prob_on_test_data(clas, X_test)"
   ]
  },
  {
   "cell_type": "code",
   "execution_count": 22,
   "id": "d5e99ed2",
   "metadata": {},
   "outputs": [],
   "source": [
    "def get_metrics(y_true, y_pred, y_pred_prob):\n",
    "    from sklearn.metrics import accuracy_score,precision_score,recall_score,log_loss\n",
    "    acc = accuracy_score(y_true, y_pred)\n",
    "    prec = precision_score(y_true, y_pred)\n",
    "    recall = recall_score(y_true, y_pred)\n",
    "    entropy = log_loss(y_true, y_pred_prob)\n",
    "    return {'accuracy': round(acc, 2), 'precision': round(prec, 2), 'recall': round(recall, 2), 'entropy': round(entropy, 2)}"
   ]
  },
  {
   "cell_type": "code",
   "execution_count": 23,
   "id": "12311a48",
   "metadata": {},
   "outputs": [
    {
     "data": {
      "text/plain": [
       "{'accuracy': 0.91, 'precision': 0.64, 'recall': 0.49, 'entropy': 0.2}"
      ]
     },
     "execution_count": 23,
     "metadata": {},
     "output_type": "execute_result"
    }
   ],
   "source": [
    "get_metrics(y_test, y_pred, pred_prob)"
   ]
  },
  {
   "cell_type": "code",
   "execution_count": null,
   "id": "a31773ea",
   "metadata": {},
   "outputs": [],
   "source": []
  },
  {
   "cell_type": "code",
   "execution_count": null,
   "id": "5b5f0a9b",
   "metadata": {},
   "outputs": [],
   "source": []
  },
  {
   "cell_type": "code",
   "execution_count": null,
   "id": "87b1193d",
   "metadata": {},
   "outputs": [],
   "source": []
  },
  {
   "cell_type": "code",
   "execution_count": null,
   "id": "f05bec3c",
   "metadata": {},
   "outputs": [],
   "source": []
  },
  {
   "cell_type": "code",
   "execution_count": null,
   "id": "ac3fb9ab",
   "metadata": {},
   "outputs": [],
   "source": []
  },
  {
   "cell_type": "code",
   "execution_count": null,
   "id": "3b7e496b",
   "metadata": {},
   "outputs": [],
   "source": []
  },
  {
   "cell_type": "code",
   "execution_count": null,
   "id": "59868007",
   "metadata": {},
   "outputs": [],
   "source": []
  },
  {
   "cell_type": "code",
   "execution_count": null,
   "id": "bb5a4a0e",
   "metadata": {},
   "outputs": [],
   "source": [
    "class CabinFeatureTransformer(BaseEstimator, TransformerMixin):\n",
    "    def __init__(self):\n",
    "        print('in the CabinFeatureTransformer init method: ')\n",
    "        \n",
    "    def fit(self, x, y=None):\n",
    "        x.Cabin.fillna('U', inplace=True)\n",
    "        x['Cabin'] = x['Cabin'].map(lambda c: c[0])\n",
    "        \n",
    "        cabin_dummies = pd.get_dummies(x['Cabin'], prefix='Cabin')    \n",
    "        self.cabin_columns=  cabin_dummies.columns\n",
    "        return self\n",
    "\n",
    "    def transform(self, x):\n",
    "        # replacing missing cabins with U (for Uknown)\n",
    "        x.Cabin.fillna('U', inplace=True)\n",
    "    \n",
    "        # mapping each Cabin value with the cabin letter\n",
    "        x['Cabin'] = x['Cabin'].map(lambda c: c[0])\n",
    "        \n",
    "        cabin_dummies = pd.get_dummies(x['Cabin'], prefix='Cabin') \n",
    "        cabin_dummies = cabin_dummies.reindex(columns = self.cabin_columns, fill_value=0)\n",
    "        \n",
    "        x = pd.concat([x, cabin_dummies], axis=1)\n",
    "\n",
    "        x.drop('Cabin', axis=1, inplace=True)\n",
    "    \n",
    "        return x"
   ]
  },
  {
   "cell_type": "code",
   "execution_count": null,
   "id": "a1a351a0",
   "metadata": {},
   "outputs": [],
   "source": [
    "DataFrameMapper"
   ]
  }
 ],
 "metadata": {
  "kernelspec": {
   "display_name": "Python 3 (ipykernel)",
   "language": "python",
   "name": "python3"
  },
  "language_info": {
   "codemirror_mode": {
    "name": "ipython",
    "version": 3
   },
   "file_extension": ".py",
   "mimetype": "text/x-python",
   "name": "python",
   "nbconvert_exporter": "python",
   "pygments_lexer": "ipython3",
   "version": "3.9.16"
  }
 },
 "nbformat": 4,
 "nbformat_minor": 5
}

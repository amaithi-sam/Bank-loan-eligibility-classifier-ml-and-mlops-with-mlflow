{
 "cells": [
  {
   "cell_type": "code",
   "execution_count": 46,
   "metadata": {},
   "outputs": [],
   "source": [
    "import joblib\n",
    "import pandas as pd \n",
    "import numpy\n"
   ]
  },
  {
   "cell_type": "code",
   "execution_count": 3,
   "metadata": {},
   "outputs": [],
   "source": [
    "def edu_trans(df):\n",
    "    df['education'] = df['education'].replace(['basic.4y', 'basic.6y', 'basic.9y'], 'basic')\n",
    "    return df "
   ]
  },
  {
   "cell_type": "code",
   "execution_count": 4,
   "metadata": {},
   "outputs": [],
   "source": [
    "from sklearn import set_config\n",
    "set_config(transform_output=\"pandas\")"
   ]
  },
  {
   "cell_type": "code",
   "execution_count": 75,
   "metadata": {},
   "outputs": [],
   "source": [
    "df = pd.read_csv('data/dataset_raw/banking.csv')"
   ]
  },
  {
   "cell_type": "code",
   "execution_count": 83,
   "metadata": {},
   "outputs": [
    {
     "data": {
      "text/html": [
       "<div>\n",
       "<style scoped>\n",
       "    .dataframe tbody tr th:only-of-type {\n",
       "        vertical-align: middle;\n",
       "    }\n",
       "\n",
       "    .dataframe tbody tr th {\n",
       "        vertical-align: top;\n",
       "    }\n",
       "\n",
       "    .dataframe thead th {\n",
       "        text-align: right;\n",
       "    }\n",
       "</style>\n",
       "<table border=\"1\" class=\"dataframe\">\n",
       "  <thead>\n",
       "    <tr style=\"text-align: right;\">\n",
       "      <th></th>\n",
       "      <th>age</th>\n",
       "      <th>job</th>\n",
       "      <th>marital</th>\n",
       "      <th>education</th>\n",
       "      <th>default</th>\n",
       "      <th>housing</th>\n",
       "      <th>loan</th>\n",
       "      <th>contact</th>\n",
       "      <th>month</th>\n",
       "      <th>day_of_week</th>\n",
       "      <th>...</th>\n",
       "      <th>campaign</th>\n",
       "      <th>pdays</th>\n",
       "      <th>previous</th>\n",
       "      <th>poutcome</th>\n",
       "      <th>emp_var_rate</th>\n",
       "      <th>cons_price_idx</th>\n",
       "      <th>cons_conf_idx</th>\n",
       "      <th>euribor3m</th>\n",
       "      <th>nr_employed</th>\n",
       "      <th>y</th>\n",
       "    </tr>\n",
       "  </thead>\n",
       "  <tbody>\n",
       "    <tr>\n",
       "      <th>0</th>\n",
       "      <td>44</td>\n",
       "      <td>blue-collar</td>\n",
       "      <td>married</td>\n",
       "      <td>basic.4y</td>\n",
       "      <td>unknown</td>\n",
       "      <td>yes</td>\n",
       "      <td>no</td>\n",
       "      <td>cellular</td>\n",
       "      <td>aug</td>\n",
       "      <td>thu</td>\n",
       "      <td>...</td>\n",
       "      <td>1</td>\n",
       "      <td>999</td>\n",
       "      <td>0</td>\n",
       "      <td>nonexistent</td>\n",
       "      <td>1.4</td>\n",
       "      <td>93.444</td>\n",
       "      <td>-36.1</td>\n",
       "      <td>4.963</td>\n",
       "      <td>5228.1</td>\n",
       "      <td>0</td>\n",
       "    </tr>\n",
       "    <tr>\n",
       "      <th>1</th>\n",
       "      <td>53</td>\n",
       "      <td>technician</td>\n",
       "      <td>married</td>\n",
       "      <td>unknown</td>\n",
       "      <td>no</td>\n",
       "      <td>no</td>\n",
       "      <td>no</td>\n",
       "      <td>cellular</td>\n",
       "      <td>nov</td>\n",
       "      <td>fri</td>\n",
       "      <td>...</td>\n",
       "      <td>1</td>\n",
       "      <td>999</td>\n",
       "      <td>0</td>\n",
       "      <td>nonexistent</td>\n",
       "      <td>-0.1</td>\n",
       "      <td>93.200</td>\n",
       "      <td>-42.0</td>\n",
       "      <td>4.021</td>\n",
       "      <td>5195.8</td>\n",
       "      <td>0</td>\n",
       "    </tr>\n",
       "    <tr>\n",
       "      <th>2</th>\n",
       "      <td>28</td>\n",
       "      <td>management</td>\n",
       "      <td>single</td>\n",
       "      <td>university.degree</td>\n",
       "      <td>no</td>\n",
       "      <td>yes</td>\n",
       "      <td>no</td>\n",
       "      <td>cellular</td>\n",
       "      <td>jun</td>\n",
       "      <td>thu</td>\n",
       "      <td>...</td>\n",
       "      <td>3</td>\n",
       "      <td>6</td>\n",
       "      <td>2</td>\n",
       "      <td>success</td>\n",
       "      <td>-1.7</td>\n",
       "      <td>94.055</td>\n",
       "      <td>-39.8</td>\n",
       "      <td>0.729</td>\n",
       "      <td>4991.6</td>\n",
       "      <td>1</td>\n",
       "    </tr>\n",
       "    <tr>\n",
       "      <th>3</th>\n",
       "      <td>39</td>\n",
       "      <td>services</td>\n",
       "      <td>married</td>\n",
       "      <td>high.school</td>\n",
       "      <td>no</td>\n",
       "      <td>no</td>\n",
       "      <td>no</td>\n",
       "      <td>cellular</td>\n",
       "      <td>apr</td>\n",
       "      <td>fri</td>\n",
       "      <td>...</td>\n",
       "      <td>2</td>\n",
       "      <td>999</td>\n",
       "      <td>0</td>\n",
       "      <td>nonexistent</td>\n",
       "      <td>-1.8</td>\n",
       "      <td>93.075</td>\n",
       "      <td>-47.1</td>\n",
       "      <td>1.405</td>\n",
       "      <td>5099.1</td>\n",
       "      <td>0</td>\n",
       "    </tr>\n",
       "    <tr>\n",
       "      <th>4</th>\n",
       "      <td>55</td>\n",
       "      <td>retired</td>\n",
       "      <td>married</td>\n",
       "      <td>basic.4y</td>\n",
       "      <td>no</td>\n",
       "      <td>yes</td>\n",
       "      <td>no</td>\n",
       "      <td>cellular</td>\n",
       "      <td>aug</td>\n",
       "      <td>fri</td>\n",
       "      <td>...</td>\n",
       "      <td>1</td>\n",
       "      <td>3</td>\n",
       "      <td>1</td>\n",
       "      <td>success</td>\n",
       "      <td>-2.9</td>\n",
       "      <td>92.201</td>\n",
       "      <td>-31.4</td>\n",
       "      <td>0.869</td>\n",
       "      <td>5076.2</td>\n",
       "      <td>1</td>\n",
       "    </tr>\n",
       "  </tbody>\n",
       "</table>\n",
       "<p>5 rows × 21 columns</p>\n",
       "</div>"
      ],
      "text/plain": [
       "   age          job  marital          education  default housing loan   \n",
       "0   44  blue-collar  married           basic.4y  unknown     yes   no  \\\n",
       "1   53   technician  married            unknown       no      no   no   \n",
       "2   28   management   single  university.degree       no     yes   no   \n",
       "3   39     services  married        high.school       no      no   no   \n",
       "4   55      retired  married           basic.4y       no     yes   no   \n",
       "\n",
       "    contact month day_of_week  ...  campaign  pdays  previous     poutcome   \n",
       "0  cellular   aug         thu  ...         1    999         0  nonexistent  \\\n",
       "1  cellular   nov         fri  ...         1    999         0  nonexistent   \n",
       "2  cellular   jun         thu  ...         3      6         2      success   \n",
       "3  cellular   apr         fri  ...         2    999         0  nonexistent   \n",
       "4  cellular   aug         fri  ...         1      3         1      success   \n",
       "\n",
       "  emp_var_rate  cons_price_idx  cons_conf_idx  euribor3m  nr_employed  y  \n",
       "0          1.4          93.444          -36.1      4.963       5228.1  0  \n",
       "1         -0.1          93.200          -42.0      4.021       5195.8  0  \n",
       "2         -1.7          94.055          -39.8      0.729       4991.6  1  \n",
       "3         -1.8          93.075          -47.1      1.405       5099.1  0  \n",
       "4         -2.9          92.201          -31.4      0.869       5076.2  1  \n",
       "\n",
       "[5 rows x 21 columns]"
      ]
     },
     "execution_count": 83,
     "metadata": {},
     "output_type": "execute_result"
    }
   ],
   "source": [
    "df.head()"
   ]
  },
  {
   "cell_type": "code",
   "execution_count": 5,
   "metadata": {},
   "outputs": [
    {
     "data": {
      "text/html": [
       "<style>#sk-container-id-1 {color: black;background-color: white;}#sk-container-id-1 pre{padding: 0;}#sk-container-id-1 div.sk-toggleable {background-color: white;}#sk-container-id-1 label.sk-toggleable__label {cursor: pointer;display: block;width: 100%;margin-bottom: 0;padding: 0.3em;box-sizing: border-box;text-align: center;}#sk-container-id-1 label.sk-toggleable__label-arrow:before {content: \"▸\";float: left;margin-right: 0.25em;color: #696969;}#sk-container-id-1 label.sk-toggleable__label-arrow:hover:before {color: black;}#sk-container-id-1 div.sk-estimator:hover label.sk-toggleable__label-arrow:before {color: black;}#sk-container-id-1 div.sk-toggleable__content {max-height: 0;max-width: 0;overflow: hidden;text-align: left;background-color: #f0f8ff;}#sk-container-id-1 div.sk-toggleable__content pre {margin: 0.2em;color: black;border-radius: 0.25em;background-color: #f0f8ff;}#sk-container-id-1 input.sk-toggleable__control:checked~div.sk-toggleable__content {max-height: 200px;max-width: 100%;overflow: auto;}#sk-container-id-1 input.sk-toggleable__control:checked~label.sk-toggleable__label-arrow:before {content: \"▾\";}#sk-container-id-1 div.sk-estimator input.sk-toggleable__control:checked~label.sk-toggleable__label {background-color: #d4ebff;}#sk-container-id-1 div.sk-label input.sk-toggleable__control:checked~label.sk-toggleable__label {background-color: #d4ebff;}#sk-container-id-1 input.sk-hidden--visually {border: 0;clip: rect(1px 1px 1px 1px);clip: rect(1px, 1px, 1px, 1px);height: 1px;margin: -1px;overflow: hidden;padding: 0;position: absolute;width: 1px;}#sk-container-id-1 div.sk-estimator {font-family: monospace;background-color: #f0f8ff;border: 1px dotted black;border-radius: 0.25em;box-sizing: border-box;margin-bottom: 0.5em;}#sk-container-id-1 div.sk-estimator:hover {background-color: #d4ebff;}#sk-container-id-1 div.sk-parallel-item::after {content: \"\";width: 100%;border-bottom: 1px solid gray;flex-grow: 1;}#sk-container-id-1 div.sk-label:hover label.sk-toggleable__label {background-color: #d4ebff;}#sk-container-id-1 div.sk-serial::before {content: \"\";position: absolute;border-left: 1px solid gray;box-sizing: border-box;top: 0;bottom: 0;left: 50%;z-index: 0;}#sk-container-id-1 div.sk-serial {display: flex;flex-direction: column;align-items: center;background-color: white;padding-right: 0.2em;padding-left: 0.2em;position: relative;}#sk-container-id-1 div.sk-item {position: relative;z-index: 1;}#sk-container-id-1 div.sk-parallel {display: flex;align-items: stretch;justify-content: center;background-color: white;position: relative;}#sk-container-id-1 div.sk-item::before, #sk-container-id-1 div.sk-parallel-item::before {content: \"\";position: absolute;border-left: 1px solid gray;box-sizing: border-box;top: 0;bottom: 0;left: 50%;z-index: -1;}#sk-container-id-1 div.sk-parallel-item {display: flex;flex-direction: column;z-index: 1;position: relative;background-color: white;}#sk-container-id-1 div.sk-parallel-item:first-child::after {align-self: flex-end;width: 50%;}#sk-container-id-1 div.sk-parallel-item:last-child::after {align-self: flex-start;width: 50%;}#sk-container-id-1 div.sk-parallel-item:only-child::after {width: 0;}#sk-container-id-1 div.sk-dashed-wrapped {border: 1px dashed gray;margin: 0 0.4em 0.5em 0.4em;box-sizing: border-box;padding-bottom: 0.4em;background-color: white;}#sk-container-id-1 div.sk-label label {font-family: monospace;font-weight: bold;display: inline-block;line-height: 1.2em;}#sk-container-id-1 div.sk-label-container {text-align: center;}#sk-container-id-1 div.sk-container {/* jupyter's `normalize.less` sets `[hidden] { display: none; }` but bootstrap.min.css set `[hidden] { display: none !important; }` so we also need the `!important` here to be able to override the default hidden behavior on the sphinx rendered scikit-learn.org. See: https://github.com/scikit-learn/scikit-learn/issues/21755 */display: inline-block !important;position: relative;}#sk-container-id-1 div.sk-text-repr-fallback {display: none;}</style><div id=\"sk-container-id-1\" class=\"sk-top-container\"><div class=\"sk-text-repr-fallback\"><pre>Pipeline(steps=[(&#x27;categorical Transformer&#x27;,\n",
       "                 ColumnTransformer(remainder=&#x27;passthrough&#x27;,\n",
       "                                   transformers=[(&#x27;ordinal Encoder&#x27;,\n",
       "                                                  OrdinalEncoder(categories=[[&#x27;thu&#x27;,\n",
       "                                                                              &#x27;fri&#x27;,\n",
       "                                                                              &#x27;tue&#x27;,\n",
       "                                                                              &#x27;mon&#x27;,\n",
       "                                                                              &#x27;wed&#x27;],\n",
       "                                                                             [&#x27;unknown&#x27;,\n",
       "                                                                              &#x27;illiterate&#x27;,\n",
       "                                                                              &#x27;basic&#x27;,\n",
       "                                                                              &#x27;high.school&#x27;,\n",
       "                                                                              &#x27;university.degree&#x27;,\n",
       "                                                                              &#x27;professional.course&#x27;],\n",
       "                                                                             [&#x27;blue-collar&#x27;,\n",
       "                                                                              &#x27;technician&#x27;,\n",
       "                                                                              &#x27;management&#x27;,\n",
       "                                                                              &#x27;services&#x27;,\n",
       "                                                                              &#x27;retired&#x27;,\n",
       "                                                                              &#x27;admin.&#x27;,\n",
       "                                                                              &#x27;housemaid&#x27;,\n",
       "                                                                              &#x27;un...\n",
       "                                                   &#x27;housing&#x27;, &#x27;loan&#x27;,\n",
       "                                                   &#x27;poutcome&#x27;])],\n",
       "                                   verbose_feature_names_out=False)),\n",
       "                (&#x27;Numerical Transformer&#x27;,\n",
       "                 ColumnTransformer(remainder=&#x27;passthrough&#x27;,\n",
       "                                   transformers=[(&#x27;Scaling Numerical features&#x27;,\n",
       "                                                  StandardScaler(),\n",
       "                                                  [&#x27;age&#x27;, &#x27;duration&#x27;,\n",
       "                                                   &#x27;campaign&#x27;, &#x27;pdays&#x27;,\n",
       "                                                   &#x27;previous&#x27;, &#x27;emp_var_rate&#x27;,\n",
       "                                                   &#x27;cons_price_idx&#x27;,\n",
       "                                                   &#x27;cons_conf_idx&#x27;, &#x27;euribor3m&#x27;,\n",
       "                                                   &#x27;nr_employed&#x27;])],\n",
       "                                   verbose_feature_names_out=False))])</pre><b>In a Jupyter environment, please rerun this cell to show the HTML representation or trust the notebook. <br />On GitHub, the HTML representation is unable to render, please try loading this page with nbviewer.org.</b></div><div class=\"sk-container\" hidden><div class=\"sk-item sk-dashed-wrapped\"><div class=\"sk-label-container\"><div class=\"sk-label sk-toggleable\"><input class=\"sk-toggleable__control sk-hidden--visually\" id=\"sk-estimator-id-1\" type=\"checkbox\" ><label for=\"sk-estimator-id-1\" class=\"sk-toggleable__label sk-toggleable__label-arrow\">Pipeline</label><div class=\"sk-toggleable__content\"><pre>Pipeline(steps=[(&#x27;categorical Transformer&#x27;,\n",
       "                 ColumnTransformer(remainder=&#x27;passthrough&#x27;,\n",
       "                                   transformers=[(&#x27;ordinal Encoder&#x27;,\n",
       "                                                  OrdinalEncoder(categories=[[&#x27;thu&#x27;,\n",
       "                                                                              &#x27;fri&#x27;,\n",
       "                                                                              &#x27;tue&#x27;,\n",
       "                                                                              &#x27;mon&#x27;,\n",
       "                                                                              &#x27;wed&#x27;],\n",
       "                                                                             [&#x27;unknown&#x27;,\n",
       "                                                                              &#x27;illiterate&#x27;,\n",
       "                                                                              &#x27;basic&#x27;,\n",
       "                                                                              &#x27;high.school&#x27;,\n",
       "                                                                              &#x27;university.degree&#x27;,\n",
       "                                                                              &#x27;professional.course&#x27;],\n",
       "                                                                             [&#x27;blue-collar&#x27;,\n",
       "                                                                              &#x27;technician&#x27;,\n",
       "                                                                              &#x27;management&#x27;,\n",
       "                                                                              &#x27;services&#x27;,\n",
       "                                                                              &#x27;retired&#x27;,\n",
       "                                                                              &#x27;admin.&#x27;,\n",
       "                                                                              &#x27;housemaid&#x27;,\n",
       "                                                                              &#x27;un...\n",
       "                                                   &#x27;housing&#x27;, &#x27;loan&#x27;,\n",
       "                                                   &#x27;poutcome&#x27;])],\n",
       "                                   verbose_feature_names_out=False)),\n",
       "                (&#x27;Numerical Transformer&#x27;,\n",
       "                 ColumnTransformer(remainder=&#x27;passthrough&#x27;,\n",
       "                                   transformers=[(&#x27;Scaling Numerical features&#x27;,\n",
       "                                                  StandardScaler(),\n",
       "                                                  [&#x27;age&#x27;, &#x27;duration&#x27;,\n",
       "                                                   &#x27;campaign&#x27;, &#x27;pdays&#x27;,\n",
       "                                                   &#x27;previous&#x27;, &#x27;emp_var_rate&#x27;,\n",
       "                                                   &#x27;cons_price_idx&#x27;,\n",
       "                                                   &#x27;cons_conf_idx&#x27;, &#x27;euribor3m&#x27;,\n",
       "                                                   &#x27;nr_employed&#x27;])],\n",
       "                                   verbose_feature_names_out=False))])</pre></div></div></div><div class=\"sk-serial\"><div class=\"sk-item sk-dashed-wrapped\"><div class=\"sk-label-container\"><div class=\"sk-label sk-toggleable\"><input class=\"sk-toggleable__control sk-hidden--visually\" id=\"sk-estimator-id-2\" type=\"checkbox\" ><label for=\"sk-estimator-id-2\" class=\"sk-toggleable__label sk-toggleable__label-arrow\">categorical Transformer: ColumnTransformer</label><div class=\"sk-toggleable__content\"><pre>ColumnTransformer(remainder=&#x27;passthrough&#x27;,\n",
       "                  transformers=[(&#x27;ordinal Encoder&#x27;,\n",
       "                                 OrdinalEncoder(categories=[[&#x27;thu&#x27;, &#x27;fri&#x27;,\n",
       "                                                             &#x27;tue&#x27;, &#x27;mon&#x27;,\n",
       "                                                             &#x27;wed&#x27;],\n",
       "                                                            [&#x27;unknown&#x27;,\n",
       "                                                             &#x27;illiterate&#x27;,\n",
       "                                                             &#x27;basic&#x27;,\n",
       "                                                             &#x27;high.school&#x27;,\n",
       "                                                             &#x27;university.degree&#x27;,\n",
       "                                                             &#x27;professional.course&#x27;],\n",
       "                                                            [&#x27;blue-collar&#x27;,\n",
       "                                                             &#x27;technician&#x27;,\n",
       "                                                             &#x27;management&#x27;,\n",
       "                                                             &#x27;services&#x27;,\n",
       "                                                             &#x27;retired&#x27;,\n",
       "                                                             &#x27;admin.&#x27;,\n",
       "                                                             &#x27;housemaid&#x27;,\n",
       "                                                             &#x27;unemployed&#x27;,\n",
       "                                                             &#x27;entrepreneur&#x27;,\n",
       "                                                             &#x27;self-employed&#x27;,\n",
       "                                                             &#x27;...\n",
       "                                                             &#x27;divorced&#x27;,\n",
       "                                                             &#x27;unknown&#x27;],\n",
       "                                                            [&#x27;mar&#x27;, &#x27;apr&#x27;,\n",
       "                                                             &#x27;may&#x27;, &#x27;jun&#x27;,\n",
       "                                                             &#x27;jul&#x27;, &#x27;aug&#x27;,\n",
       "                                                             &#x27;sep&#x27;, &#x27;oct&#x27;,\n",
       "                                                             &#x27;nov&#x27;, &#x27;dec&#x27;]],\n",
       "                                                handle_unknown=&#x27;use_encoded_value&#x27;,\n",
       "                                                unknown_value=-1),\n",
       "                                 [&#x27;day_of_week&#x27;, &#x27;education&#x27;, &#x27;job&#x27;, &#x27;marital&#x27;,\n",
       "                                  &#x27;month&#x27;]),\n",
       "                                (&#x27;OneHot Encoder&#x27;,\n",
       "                                 OneHotEncoder(handle_unknown=&#x27;ignore&#x27;,\n",
       "                                               sparse_output=False),\n",
       "                                 [&#x27;contact&#x27;, &#x27;default&#x27;, &#x27;housing&#x27;, &#x27;loan&#x27;,\n",
       "                                  &#x27;poutcome&#x27;])],\n",
       "                  verbose_feature_names_out=False)</pre></div></div></div><div class=\"sk-parallel\"><div class=\"sk-parallel-item\"><div class=\"sk-item\"><div class=\"sk-label-container\"><div class=\"sk-label sk-toggleable\"><input class=\"sk-toggleable__control sk-hidden--visually\" id=\"sk-estimator-id-3\" type=\"checkbox\" ><label for=\"sk-estimator-id-3\" class=\"sk-toggleable__label sk-toggleable__label-arrow\">ordinal Encoder</label><div class=\"sk-toggleable__content\"><pre>[&#x27;day_of_week&#x27;, &#x27;education&#x27;, &#x27;job&#x27;, &#x27;marital&#x27;, &#x27;month&#x27;]</pre></div></div></div><div class=\"sk-serial\"><div class=\"sk-item\"><div class=\"sk-estimator sk-toggleable\"><input class=\"sk-toggleable__control sk-hidden--visually\" id=\"sk-estimator-id-4\" type=\"checkbox\" ><label for=\"sk-estimator-id-4\" class=\"sk-toggleable__label sk-toggleable__label-arrow\">OrdinalEncoder</label><div class=\"sk-toggleable__content\"><pre>OrdinalEncoder(categories=[[&#x27;thu&#x27;, &#x27;fri&#x27;, &#x27;tue&#x27;, &#x27;mon&#x27;, &#x27;wed&#x27;],\n",
       "                           [&#x27;unknown&#x27;, &#x27;illiterate&#x27;, &#x27;basic&#x27;, &#x27;high.school&#x27;,\n",
       "                            &#x27;university.degree&#x27;, &#x27;professional.course&#x27;],\n",
       "                           [&#x27;blue-collar&#x27;, &#x27;technician&#x27;, &#x27;management&#x27;,\n",
       "                            &#x27;services&#x27;, &#x27;retired&#x27;, &#x27;admin.&#x27;, &#x27;housemaid&#x27;,\n",
       "                            &#x27;unemployed&#x27;, &#x27;entrepreneur&#x27;, &#x27;self-employed&#x27;,\n",
       "                            &#x27;unknown&#x27;, &#x27;student&#x27;],\n",
       "                           [&#x27;married&#x27;, &#x27;single&#x27;, &#x27;divorced&#x27;, &#x27;unknown&#x27;],\n",
       "                           [&#x27;mar&#x27;, &#x27;apr&#x27;, &#x27;may&#x27;, &#x27;jun&#x27;, &#x27;jul&#x27;, &#x27;aug&#x27;, &#x27;sep&#x27;,\n",
       "                            &#x27;oct&#x27;, &#x27;nov&#x27;, &#x27;dec&#x27;]],\n",
       "               handle_unknown=&#x27;use_encoded_value&#x27;, unknown_value=-1)</pre></div></div></div></div></div></div><div class=\"sk-parallel-item\"><div class=\"sk-item\"><div class=\"sk-label-container\"><div class=\"sk-label sk-toggleable\"><input class=\"sk-toggleable__control sk-hidden--visually\" id=\"sk-estimator-id-5\" type=\"checkbox\" ><label for=\"sk-estimator-id-5\" class=\"sk-toggleable__label sk-toggleable__label-arrow\">OneHot Encoder</label><div class=\"sk-toggleable__content\"><pre>[&#x27;contact&#x27;, &#x27;default&#x27;, &#x27;housing&#x27;, &#x27;loan&#x27;, &#x27;poutcome&#x27;]</pre></div></div></div><div class=\"sk-serial\"><div class=\"sk-item\"><div class=\"sk-estimator sk-toggleable\"><input class=\"sk-toggleable__control sk-hidden--visually\" id=\"sk-estimator-id-6\" type=\"checkbox\" ><label for=\"sk-estimator-id-6\" class=\"sk-toggleable__label sk-toggleable__label-arrow\">OneHotEncoder</label><div class=\"sk-toggleable__content\"><pre>OneHotEncoder(handle_unknown=&#x27;ignore&#x27;, sparse_output=False)</pre></div></div></div></div></div></div><div class=\"sk-parallel-item\"><div class=\"sk-item\"><div class=\"sk-label-container\"><div class=\"sk-label sk-toggleable\"><input class=\"sk-toggleable__control sk-hidden--visually\" id=\"sk-estimator-id-7\" type=\"checkbox\" ><label for=\"sk-estimator-id-7\" class=\"sk-toggleable__label sk-toggleable__label-arrow\">remainder</label><div class=\"sk-toggleable__content\"><pre></pre></div></div></div><div class=\"sk-serial\"><div class=\"sk-item\"><div class=\"sk-estimator sk-toggleable\"><input class=\"sk-toggleable__control sk-hidden--visually\" id=\"sk-estimator-id-8\" type=\"checkbox\" ><label for=\"sk-estimator-id-8\" class=\"sk-toggleable__label sk-toggleable__label-arrow\">passthrough</label><div class=\"sk-toggleable__content\"><pre>passthrough</pre></div></div></div></div></div></div></div></div><div class=\"sk-item sk-dashed-wrapped\"><div class=\"sk-label-container\"><div class=\"sk-label sk-toggleable\"><input class=\"sk-toggleable__control sk-hidden--visually\" id=\"sk-estimator-id-9\" type=\"checkbox\" ><label for=\"sk-estimator-id-9\" class=\"sk-toggleable__label sk-toggleable__label-arrow\">Numerical Transformer: ColumnTransformer</label><div class=\"sk-toggleable__content\"><pre>ColumnTransformer(remainder=&#x27;passthrough&#x27;,\n",
       "                  transformers=[(&#x27;Scaling Numerical features&#x27;, StandardScaler(),\n",
       "                                 [&#x27;age&#x27;, &#x27;duration&#x27;, &#x27;campaign&#x27;, &#x27;pdays&#x27;,\n",
       "                                  &#x27;previous&#x27;, &#x27;emp_var_rate&#x27;, &#x27;cons_price_idx&#x27;,\n",
       "                                  &#x27;cons_conf_idx&#x27;, &#x27;euribor3m&#x27;,\n",
       "                                  &#x27;nr_employed&#x27;])],\n",
       "                  verbose_feature_names_out=False)</pre></div></div></div><div class=\"sk-parallel\"><div class=\"sk-parallel-item\"><div class=\"sk-item\"><div class=\"sk-label-container\"><div class=\"sk-label sk-toggleable\"><input class=\"sk-toggleable__control sk-hidden--visually\" id=\"sk-estimator-id-10\" type=\"checkbox\" ><label for=\"sk-estimator-id-10\" class=\"sk-toggleable__label sk-toggleable__label-arrow\">Scaling Numerical features</label><div class=\"sk-toggleable__content\"><pre>[&#x27;age&#x27;, &#x27;duration&#x27;, &#x27;campaign&#x27;, &#x27;pdays&#x27;, &#x27;previous&#x27;, &#x27;emp_var_rate&#x27;, &#x27;cons_price_idx&#x27;, &#x27;cons_conf_idx&#x27;, &#x27;euribor3m&#x27;, &#x27;nr_employed&#x27;]</pre></div></div></div><div class=\"sk-serial\"><div class=\"sk-item\"><div class=\"sk-estimator sk-toggleable\"><input class=\"sk-toggleable__control sk-hidden--visually\" id=\"sk-estimator-id-11\" type=\"checkbox\" ><label for=\"sk-estimator-id-11\" class=\"sk-toggleable__label sk-toggleable__label-arrow\">StandardScaler</label><div class=\"sk-toggleable__content\"><pre>StandardScaler()</pre></div></div></div></div></div></div><div class=\"sk-parallel-item\"><div class=\"sk-item\"><div class=\"sk-label-container\"><div class=\"sk-label sk-toggleable\"><input class=\"sk-toggleable__control sk-hidden--visually\" id=\"sk-estimator-id-12\" type=\"checkbox\" ><label for=\"sk-estimator-id-12\" class=\"sk-toggleable__label sk-toggleable__label-arrow\">remainder</label><div class=\"sk-toggleable__content\"><pre></pre></div></div></div><div class=\"sk-serial\"><div class=\"sk-item\"><div class=\"sk-estimator sk-toggleable\"><input class=\"sk-toggleable__control sk-hidden--visually\" id=\"sk-estimator-id-13\" type=\"checkbox\" ><label for=\"sk-estimator-id-13\" class=\"sk-toggleable__label sk-toggleable__label-arrow\">passthrough</label><div class=\"sk-toggleable__content\"><pre>passthrough</pre></div></div></div></div></div></div></div></div></div></div></div></div>"
      ],
      "text/plain": [
       "Pipeline(steps=[('categorical Transformer',\n",
       "                 ColumnTransformer(remainder='passthrough',\n",
       "                                   transformers=[('ordinal Encoder',\n",
       "                                                  OrdinalEncoder(categories=[['thu',\n",
       "                                                                              'fri',\n",
       "                                                                              'tue',\n",
       "                                                                              'mon',\n",
       "                                                                              'wed'],\n",
       "                                                                             ['unknown',\n",
       "                                                                              'illiterate',\n",
       "                                                                              'basic',\n",
       "                                                                              'high.school',\n",
       "                                                                              'university.degree',\n",
       "                                                                              'professional.course'],\n",
       "                                                                             ['blue-collar',\n",
       "                                                                              'technician',\n",
       "                                                                              'management',\n",
       "                                                                              'services',\n",
       "                                                                              'retired',\n",
       "                                                                              'admin.',\n",
       "                                                                              'housemaid',\n",
       "                                                                              'un...\n",
       "                                                   'housing', 'loan',\n",
       "                                                   'poutcome'])],\n",
       "                                   verbose_feature_names_out=False)),\n",
       "                ('Numerical Transformer',\n",
       "                 ColumnTransformer(remainder='passthrough',\n",
       "                                   transformers=[('Scaling Numerical features',\n",
       "                                                  StandardScaler(),\n",
       "                                                  ['age', 'duration',\n",
       "                                                   'campaign', 'pdays',\n",
       "                                                   'previous', 'emp_var_rate',\n",
       "                                                   'cons_price_idx',\n",
       "                                                   'cons_conf_idx', 'euribor3m',\n",
       "                                                   'nr_employed'])],\n",
       "                                   verbose_feature_names_out=False))])"
      ]
     },
     "execution_count": 5,
     "metadata": {},
     "output_type": "execute_result"
    }
   ],
   "source": [
    "test_pipe = joblib.load('model_dir/Preprocessor/Preprocessor.pkl')\n",
    "test_pipe"
   ]
  },
  {
   "cell_type": "code",
   "execution_count": 6,
   "metadata": {},
   "outputs": [],
   "source": [
    "processed = test_pipe.fit_transform(df)"
   ]
  },
  {
   "cell_type": "code",
   "execution_count": 7,
   "metadata": {},
   "outputs": [
    {
     "data": {
      "text/html": [
       "<div>\n",
       "<style scoped>\n",
       "    .dataframe tbody tr th:only-of-type {\n",
       "        vertical-align: middle;\n",
       "    }\n",
       "\n",
       "    .dataframe tbody tr th {\n",
       "        vertical-align: top;\n",
       "    }\n",
       "\n",
       "    .dataframe thead th {\n",
       "        text-align: right;\n",
       "    }\n",
       "</style>\n",
       "<table border=\"1\" class=\"dataframe\">\n",
       "  <thead>\n",
       "    <tr style=\"text-align: right;\">\n",
       "      <th></th>\n",
       "      <th>age</th>\n",
       "      <th>duration</th>\n",
       "      <th>campaign</th>\n",
       "      <th>pdays</th>\n",
       "      <th>previous</th>\n",
       "      <th>emp_var_rate</th>\n",
       "      <th>cons_price_idx</th>\n",
       "      <th>cons_conf_idx</th>\n",
       "      <th>euribor3m</th>\n",
       "      <th>nr_employed</th>\n",
       "      <th>...</th>\n",
       "      <th>housing_no</th>\n",
       "      <th>housing_unknown</th>\n",
       "      <th>housing_yes</th>\n",
       "      <th>loan_no</th>\n",
       "      <th>loan_unknown</th>\n",
       "      <th>loan_yes</th>\n",
       "      <th>poutcome_failure</th>\n",
       "      <th>poutcome_nonexistent</th>\n",
       "      <th>poutcome_success</th>\n",
       "      <th>y</th>\n",
       "    </tr>\n",
       "  </thead>\n",
       "  <tbody>\n",
       "    <tr>\n",
       "      <th>0</th>\n",
       "      <td>0.381527</td>\n",
       "      <td>-0.186230</td>\n",
       "      <td>-0.565922</td>\n",
       "      <td>0.195414</td>\n",
       "      <td>-0.349494</td>\n",
       "      <td>0.839061</td>\n",
       "      <td>-0.227465</td>\n",
       "      <td>0.951267</td>\n",
       "      <td>0.773575</td>\n",
       "      <td>0.845170</td>\n",
       "      <td>...</td>\n",
       "      <td>0.0</td>\n",
       "      <td>0.0</td>\n",
       "      <td>1.0</td>\n",
       "      <td>1.0</td>\n",
       "      <td>0.0</td>\n",
       "      <td>0.0</td>\n",
       "      <td>0.0</td>\n",
       "      <td>1.0</td>\n",
       "      <td>0.0</td>\n",
       "      <td>0</td>\n",
       "    </tr>\n",
       "    <tr>\n",
       "      <th>1</th>\n",
       "      <td>1.245157</td>\n",
       "      <td>-0.463926</td>\n",
       "      <td>-0.565922</td>\n",
       "      <td>0.195414</td>\n",
       "      <td>-0.349494</td>\n",
       "      <td>-0.115781</td>\n",
       "      <td>-0.649003</td>\n",
       "      <td>-0.323542</td>\n",
       "      <td>0.230456</td>\n",
       "      <td>0.398115</td>\n",
       "      <td>...</td>\n",
       "      <td>1.0</td>\n",
       "      <td>0.0</td>\n",
       "      <td>0.0</td>\n",
       "      <td>1.0</td>\n",
       "      <td>0.0</td>\n",
       "      <td>0.0</td>\n",
       "      <td>0.0</td>\n",
       "      <td>1.0</td>\n",
       "      <td>0.0</td>\n",
       "      <td>0</td>\n",
       "    </tr>\n",
       "    <tr>\n",
       "      <th>2</th>\n",
       "      <td>-1.153816</td>\n",
       "      <td>0.311309</td>\n",
       "      <td>0.156105</td>\n",
       "      <td>-5.117342</td>\n",
       "      <td>3.691766</td>\n",
       "      <td>-1.134279</td>\n",
       "      <td>0.828107</td>\n",
       "      <td>0.151810</td>\n",
       "      <td>-1.667578</td>\n",
       "      <td>-2.428157</td>\n",
       "      <td>...</td>\n",
       "      <td>0.0</td>\n",
       "      <td>0.0</td>\n",
       "      <td>1.0</td>\n",
       "      <td>1.0</td>\n",
       "      <td>0.0</td>\n",
       "      <td>0.0</td>\n",
       "      <td>0.0</td>\n",
       "      <td>0.0</td>\n",
       "      <td>1.0</td>\n",
       "      <td>1</td>\n",
       "    </tr>\n",
       "    <tr>\n",
       "      <th>3</th>\n",
       "      <td>-0.098268</td>\n",
       "      <td>-0.282652</td>\n",
       "      <td>-0.204909</td>\n",
       "      <td>0.195414</td>\n",
       "      <td>-0.349494</td>\n",
       "      <td>-1.197935</td>\n",
       "      <td>-0.864955</td>\n",
       "      <td>-1.425496</td>\n",
       "      <td>-1.277824</td>\n",
       "      <td>-0.940281</td>\n",
       "      <td>...</td>\n",
       "      <td>1.0</td>\n",
       "      <td>0.0</td>\n",
       "      <td>0.0</td>\n",
       "      <td>1.0</td>\n",
       "      <td>0.0</td>\n",
       "      <td>0.0</td>\n",
       "      <td>0.0</td>\n",
       "      <td>1.0</td>\n",
       "      <td>0.0</td>\n",
       "      <td>0</td>\n",
       "    </tr>\n",
       "    <tr>\n",
       "      <th>4</th>\n",
       "      <td>1.437075</td>\n",
       "      <td>-0.467783</td>\n",
       "      <td>-0.565922</td>\n",
       "      <td>-5.133393</td>\n",
       "      <td>1.671136</td>\n",
       "      <td>-1.898153</td>\n",
       "      <td>-2.374889</td>\n",
       "      <td>1.966794</td>\n",
       "      <td>-1.586859</td>\n",
       "      <td>-1.257233</td>\n",
       "      <td>...</td>\n",
       "      <td>0.0</td>\n",
       "      <td>0.0</td>\n",
       "      <td>1.0</td>\n",
       "      <td>1.0</td>\n",
       "      <td>0.0</td>\n",
       "      <td>0.0</td>\n",
       "      <td>0.0</td>\n",
       "      <td>0.0</td>\n",
       "      <td>1.0</td>\n",
       "      <td>1</td>\n",
       "    </tr>\n",
       "  </tbody>\n",
       "</table>\n",
       "<p>5 rows × 30 columns</p>\n",
       "</div>"
      ],
      "text/plain": [
       "        age  duration  campaign     pdays  previous  emp_var_rate   \n",
       "0  0.381527 -0.186230 -0.565922  0.195414 -0.349494      0.839061  \\\n",
       "1  1.245157 -0.463926 -0.565922  0.195414 -0.349494     -0.115781   \n",
       "2 -1.153816  0.311309  0.156105 -5.117342  3.691766     -1.134279   \n",
       "3 -0.098268 -0.282652 -0.204909  0.195414 -0.349494     -1.197935   \n",
       "4  1.437075 -0.467783 -0.565922 -5.133393  1.671136     -1.898153   \n",
       "\n",
       "   cons_price_idx  cons_conf_idx  euribor3m  nr_employed  ...  housing_no   \n",
       "0       -0.227465       0.951267   0.773575     0.845170  ...         0.0  \\\n",
       "1       -0.649003      -0.323542   0.230456     0.398115  ...         1.0   \n",
       "2        0.828107       0.151810  -1.667578    -2.428157  ...         0.0   \n",
       "3       -0.864955      -1.425496  -1.277824    -0.940281  ...         1.0   \n",
       "4       -2.374889       1.966794  -1.586859    -1.257233  ...         0.0   \n",
       "\n",
       "   housing_unknown  housing_yes  loan_no  loan_unknown  loan_yes   \n",
       "0              0.0          1.0      1.0           0.0       0.0  \\\n",
       "1              0.0          0.0      1.0           0.0       0.0   \n",
       "2              0.0          1.0      1.0           0.0       0.0   \n",
       "3              0.0          0.0      1.0           0.0       0.0   \n",
       "4              0.0          1.0      1.0           0.0       0.0   \n",
       "\n",
       "   poutcome_failure  poutcome_nonexistent  poutcome_success  y  \n",
       "0               0.0                   1.0               0.0  0  \n",
       "1               0.0                   1.0               0.0  0  \n",
       "2               0.0                   0.0               1.0  1  \n",
       "3               0.0                   1.0               0.0  0  \n",
       "4               0.0                   0.0               1.0  1  \n",
       "\n",
       "[5 rows x 30 columns]"
      ]
     },
     "execution_count": 7,
     "metadata": {},
     "output_type": "execute_result"
    }
   ],
   "source": [
    "processed.head()"
   ]
  },
  {
   "cell_type": "code",
   "execution_count": 8,
   "metadata": {},
   "outputs": [
    {
     "data": {
      "text/plain": [
       "0    0\n",
       "1    0\n",
       "2    1\n",
       "3    0\n",
       "4    1\n",
       "Name: y, dtype: int64"
      ]
     },
     "execution_count": 8,
     "metadata": {},
     "output_type": "execute_result"
    }
   ],
   "source": [
    "df['y'].head()"
   ]
  },
  {
   "cell_type": "code",
   "execution_count": null,
   "metadata": {},
   "outputs": [],
   "source": []
  },
  {
   "cell_type": "code",
   "execution_count": 35,
   "metadata": {},
   "outputs": [
    {
     "data": {
      "text/html": [
       "<div>\n",
       "<style scoped>\n",
       "    .dataframe tbody tr th:only-of-type {\n",
       "        vertical-align: middle;\n",
       "    }\n",
       "\n",
       "    .dataframe tbody tr th {\n",
       "        vertical-align: top;\n",
       "    }\n",
       "\n",
       "    .dataframe thead th {\n",
       "        text-align: right;\n",
       "    }\n",
       "</style>\n",
       "<table border=\"1\" class=\"dataframe\">\n",
       "  <thead>\n",
       "    <tr style=\"text-align: right;\">\n",
       "      <th></th>\n",
       "      <th>age</th>\n",
       "      <th>job</th>\n",
       "      <th>marital</th>\n",
       "      <th>education</th>\n",
       "      <th>default</th>\n",
       "      <th>housing</th>\n",
       "      <th>loan</th>\n",
       "      <th>contact</th>\n",
       "      <th>month</th>\n",
       "      <th>day_of_week</th>\n",
       "      <th>...</th>\n",
       "      <th>campaign</th>\n",
       "      <th>pdays</th>\n",
       "      <th>previous</th>\n",
       "      <th>poutcome</th>\n",
       "      <th>emp_var_rate</th>\n",
       "      <th>cons_price_idx</th>\n",
       "      <th>cons_conf_idx</th>\n",
       "      <th>euribor3m</th>\n",
       "      <th>nr_employed</th>\n",
       "      <th>y</th>\n",
       "    </tr>\n",
       "  </thead>\n",
       "  <tbody>\n",
       "    <tr>\n",
       "      <th>0</th>\n",
       "      <td>44</td>\n",
       "      <td>blue-collar</td>\n",
       "      <td>married</td>\n",
       "      <td>basic.4y</td>\n",
       "      <td>unknown</td>\n",
       "      <td>yes</td>\n",
       "      <td>no</td>\n",
       "      <td>cellular</td>\n",
       "      <td>aug</td>\n",
       "      <td>thu</td>\n",
       "      <td>...</td>\n",
       "      <td>1</td>\n",
       "      <td>999</td>\n",
       "      <td>0</td>\n",
       "      <td>nonexistent</td>\n",
       "      <td>1.4</td>\n",
       "      <td>93.444</td>\n",
       "      <td>-36.1</td>\n",
       "      <td>4.963</td>\n",
       "      <td>5228.1</td>\n",
       "      <td>0</td>\n",
       "    </tr>\n",
       "  </tbody>\n",
       "</table>\n",
       "<p>1 rows × 21 columns</p>\n",
       "</div>"
      ],
      "text/plain": [
       "   age          job  marital education  default housing loan   contact month   \n",
       "0   44  blue-collar  married  basic.4y  unknown     yes   no  cellular   aug  \\\n",
       "\n",
       "  day_of_week  ...  campaign  pdays  previous     poutcome emp_var_rate   \n",
       "0         thu  ...         1    999         0  nonexistent          1.4  \\\n",
       "\n",
       "   cons_price_idx  cons_conf_idx  euribor3m  nr_employed  y  \n",
       "0          93.444          -36.1      4.963       5228.1  0  \n",
       "\n",
       "[1 rows x 21 columns]"
      ]
     },
     "execution_count": 35,
     "metadata": {},
     "output_type": "execute_result"
    }
   ],
   "source": [
    "e"
   ]
  },
  {
   "cell_type": "code",
   "execution_count": 47,
   "metadata": {},
   "outputs": [],
   "source": [
    "a = {'age': '22', \n",
    "     'job': 'blue-collar', \n",
    "     'marital': 'married', \n",
    "     'education': 'professional.course', \n",
    "     'default': 'yes', \n",
    "     'housing': 'yes', \n",
    "     'loan': 'yes', \n",
    "     'contact': 'cellular', \n",
    "     'month': 'mar', \n",
    "     'day_of_week': 'mon', \n",
    "     'duration': '5', \n",
    "     'campaign': '5', \n",
    "     'pdays': '5', \n",
    "     'previous': '4', \n",
    "     'poutcome': \n",
    "     'nonexistent', \n",
    "     'emp_var_rate': '0.2', \n",
    "     'cons_price_idx': '94.201', \n",
    "     'euribor3m': '3.125', \n",
    "     'nr_employed': '4966.6'}\n"
   ]
  },
  {
   "cell_type": "code",
   "execution_count": 38,
   "metadata": {},
   "outputs": [
    {
     "data": {
      "text/plain": [
       "Index(['age', 'job', 'marital', 'education', 'default', 'housing', 'loan',\n",
       "       'contact', 'month', 'day_of_week', 'duration', 'campaign', 'pdays',\n",
       "       'previous', 'poutcome', 'emp_var_rate', 'cons_price_idx', 'euribor3m',\n",
       "       'nr_employed'],\n",
       "      dtype='object')"
      ]
     },
     "execution_count": 38,
     "metadata": {},
     "output_type": "execute_result"
    }
   ],
   "source": [
    "d = pd.DataFrame(a, columns=a.keys(), index=[0])\n",
    "d.columns\n",
    "\n"
   ]
  },
  {
   "cell_type": "code",
   "execution_count": 39,
   "metadata": {},
   "outputs": [
    {
     "data": {
      "text/plain": [
       "Index(['age', 'job', 'marital', 'education', 'default', 'housing', 'loan',\n",
       "       'contact', 'month', 'day_of_week', 'duration', 'campaign', 'pdays',\n",
       "       'previous', 'poutcome', 'emp_var_rate', 'cons_price_idx',\n",
       "       'cons_conf_idx', 'euribor3m', 'nr_employed', 'y'],\n",
       "      dtype='object')"
      ]
     },
     "execution_count": 39,
     "metadata": {},
     "output_type": "execute_result"
    }
   ],
   "source": [
    "e.columns"
   ]
  },
  {
   "cell_type": "code",
   "execution_count": 29,
   "metadata": {},
   "outputs": [],
   "source": [
    "import joblib"
   ]
  },
  {
   "cell_type": "code",
   "execution_count": 53,
   "metadata": {},
   "outputs": [],
   "source": [
    "pre_model = joblib.load(\"model_dir/Preprocessor/Preprocessor.pkl\")\n",
    "pred_model = joblib.load(\"prediction_service/production_model.pkl\")"
   ]
  },
  {
   "cell_type": "code",
   "execution_count": 31,
   "metadata": {},
   "outputs": [
    {
     "name": "stdout",
     "output_type": "stream",
     "text": [
      "<class 'pandas.core.frame.DataFrame'>\n",
      "Index: 1 entries, 0 to 0\n",
      "Data columns (total 19 columns):\n",
      " #   Column          Non-Null Count  Dtype \n",
      "---  ------          --------------  ----- \n",
      " 0   age             1 non-null      object\n",
      " 1   job             1 non-null      object\n",
      " 2   marital         1 non-null      object\n",
      " 3   education       1 non-null      object\n",
      " 4   default         1 non-null      object\n",
      " 5   housing         1 non-null      object\n",
      " 6   loan            1 non-null      object\n",
      " 7   contact         1 non-null      object\n",
      " 8   month           1 non-null      object\n",
      " 9   day_of_week     1 non-null      object\n",
      " 10  duration        1 non-null      object\n",
      " 11  campaign        1 non-null      object\n",
      " 12  pdays           1 non-null      object\n",
      " 13  previous        1 non-null      object\n",
      " 14  poutcome        1 non-null      object\n",
      " 15  emp_var_rate    1 non-null      object\n",
      " 16  cons_price_idx  1 non-null      object\n",
      " 17  euribor3m       1 non-null      object\n",
      " 18  nr_employed     1 non-null      object\n",
      "dtypes: object(19)\n",
      "memory usage: 160.0+ bytes\n"
     ]
    }
   ],
   "source": [
    "d.info()"
   ]
  },
  {
   "cell_type": "code",
   "execution_count": 32,
   "metadata": {},
   "outputs": [
    {
     "data": {
      "text/plain": [
       "{'categorical_cols': ['job',\n",
       "  'marital',\n",
       "  'education',\n",
       "  'default',\n",
       "  'housing',\n",
       "  'loan',\n",
       "  'contact',\n",
       "  'month',\n",
       "  'day_of_week',\n",
       "  'poutcome'],\n",
       " 'numerical_cols': ['age',\n",
       "  'duration',\n",
       "  'campaign',\n",
       "  'pdays',\n",
       "  'previous',\n",
       "  'emp_var_rate',\n",
       "  'cons_price_idx',\n",
       "  'cons_conf_idx',\n",
       "  'euribor3m',\n",
       "  'nr_employed',\n",
       "  'y']}"
      ]
     },
     "execution_count": 32,
     "metadata": {},
     "output_type": "execute_result"
    }
   ],
   "source": [
    "{\"categorical_cols\": [\"job\", \"marital\", \"education\", \"default\", \"housing\", \"loan\", \"contact\", \"month\", \"day_of_week\", \"poutcome\"], \"numerical_cols\": [\"age\", \"duration\", \"campaign\", \"pdays\", \"previous\", \"emp_var_rate\", \"cons_price_idx\", \"cons_conf_idx\", \"euribor3m\", \"nr_employed\", \"y\"]}"
   ]
  },
  {
   "cell_type": "code",
   "execution_count": 47,
   "metadata": {},
   "outputs": [],
   "source": [
    "df = pd.read_csv('data/dataset_processed/banking_processed.csv')"
   ]
  },
  {
   "cell_type": "code",
   "execution_count": 48,
   "metadata": {},
   "outputs": [],
   "source": [
    "e = df.head(1)"
   ]
  },
  {
   "cell_type": "code",
   "execution_count": 50,
   "metadata": {},
   "outputs": [],
   "source": [
    "e = e.drop(['y'], axis=1)"
   ]
  },
  {
   "cell_type": "code",
   "execution_count": 51,
   "metadata": {},
   "outputs": [
    {
     "data": {
      "text/html": [
       "<div>\n",
       "<style scoped>\n",
       "    .dataframe tbody tr th:only-of-type {\n",
       "        vertical-align: middle;\n",
       "    }\n",
       "\n",
       "    .dataframe tbody tr th {\n",
       "        vertical-align: top;\n",
       "    }\n",
       "\n",
       "    .dataframe thead th {\n",
       "        text-align: right;\n",
       "    }\n",
       "</style>\n",
       "<table border=\"1\" class=\"dataframe\">\n",
       "  <thead>\n",
       "    <tr style=\"text-align: right;\">\n",
       "      <th></th>\n",
       "      <th>age</th>\n",
       "      <th>duration</th>\n",
       "      <th>campaign</th>\n",
       "      <th>pdays</th>\n",
       "      <th>previous</th>\n",
       "      <th>emp_var_rate</th>\n",
       "      <th>cons_price_idx</th>\n",
       "      <th>cons_conf_idx</th>\n",
       "      <th>euribor3m</th>\n",
       "      <th>nr_employed</th>\n",
       "      <th>...</th>\n",
       "      <th>default_unknown</th>\n",
       "      <th>housing_no</th>\n",
       "      <th>housing_unknown</th>\n",
       "      <th>housing_yes</th>\n",
       "      <th>loan_no</th>\n",
       "      <th>loan_unknown</th>\n",
       "      <th>loan_yes</th>\n",
       "      <th>poutcome_failure</th>\n",
       "      <th>poutcome_nonexistent</th>\n",
       "      <th>poutcome_success</th>\n",
       "    </tr>\n",
       "  </thead>\n",
       "  <tbody>\n",
       "    <tr>\n",
       "      <th>0</th>\n",
       "      <td>-0.372582</td>\n",
       "      <td>0.080628</td>\n",
       "      <td>-0.185958</td>\n",
       "      <td>0.19226</td>\n",
       "      <td>-0.347528</td>\n",
       "      <td>-0.104706</td>\n",
       "      <td>-0.627666</td>\n",
       "      <td>-0.323935</td>\n",
       "      <td>0.272053</td>\n",
       "      <td>0.40268</td>\n",
       "      <td>...</td>\n",
       "      <td>0.0</td>\n",
       "      <td>1.0</td>\n",
       "      <td>0.0</td>\n",
       "      <td>0.0</td>\n",
       "      <td>1.0</td>\n",
       "      <td>0.0</td>\n",
       "      <td>0.0</td>\n",
       "      <td>0.0</td>\n",
       "      <td>1.0</td>\n",
       "      <td>0.0</td>\n",
       "    </tr>\n",
       "  </tbody>\n",
       "</table>\n",
       "<p>1 rows × 28 columns</p>\n",
       "</div>"
      ],
      "text/plain": [
       "        age  duration  campaign    pdays  previous  emp_var_rate   \n",
       "0 -0.372582  0.080628 -0.185958  0.19226 -0.347528     -0.104706  \\\n",
       "\n",
       "   cons_price_idx  cons_conf_idx  euribor3m  nr_employed  ...   \n",
       "0       -0.627666      -0.323935   0.272053      0.40268  ...  \\\n",
       "\n",
       "   default_unknown  housing_no  housing_unknown  housing_yes  loan_no   \n",
       "0              0.0         1.0              0.0          0.0      1.0  \\\n",
       "\n",
       "   loan_unknown  loan_yes  poutcome_failure  poutcome_nonexistent   \n",
       "0           0.0       0.0               0.0                   1.0  \\\n",
       "\n",
       "   poutcome_success  \n",
       "0               0.0  \n",
       "\n",
       "[1 rows x 28 columns]"
      ]
     },
     "execution_count": 51,
     "metadata": {},
     "output_type": "execute_result"
    }
   ],
   "source": [
    "e"
   ]
  },
  {
   "cell_type": "code",
   "execution_count": 45,
   "metadata": {},
   "outputs": [],
   "source": [
    "\n",
    "da = pre_model.transform(e)"
   ]
  },
  {
   "cell_type": "code",
   "execution_count": 54,
   "metadata": {},
   "outputs": [],
   "source": [
    "pred = pred_model.predict(e)"
   ]
  },
  {
   "cell_type": "code",
   "execution_count": 55,
   "metadata": {},
   "outputs": [
    {
     "data": {
      "text/plain": [
       "array([0])"
      ]
     },
     "execution_count": 55,
     "metadata": {},
     "output_type": "execute_result"
    }
   ],
   "source": [
    "pred"
   ]
  },
  {
   "cell_type": "code",
   "execution_count": null,
   "metadata": {},
   "outputs": [],
   "source": []
  },
  {
   "cell_type": "code",
   "execution_count": null,
   "metadata": {},
   "outputs": [],
   "source": []
  },
  {
   "cell_type": "code",
   "execution_count": 67,
   "metadata": {},
   "outputs": [],
   "source": [
    "a = {'age': '21', 'job': 'blue-collar', 'marital': 'married', 'education': 'professional.course', 'default': 'yes', 'housing': 'yes', 'loan': 'yes', 'contact': 'cellular', 'month': 'mar', 'day_of_week': 'mon', 'duration': '5', 'campaign': '5', 'pdays': '5', 'previous': '4', 'poutcome': 'nonexistent', 'emp_var_rate': '0.6', 'cons_price_idx': '94.201', 'cons_conf_idx': '-27.8', 'euribor3m': '4.634', 'nr_employed': '4965.6'}"
   ]
  },
  {
   "cell_type": "code",
   "execution_count": 1,
   "metadata": {},
   "outputs": [],
   "source": [
    "import joblib\n",
    "import pandas as pd \n",
    "import numpy as np "
   ]
  },
  {
   "cell_type": "code",
   "execution_count": 48,
   "metadata": {},
   "outputs": [],
   "source": [
    "pre = joblib.load('model_dir/Preprocessor/Preprocessor.joblib')\n",
    "pred = joblib.load('prediction_service/production_model.pkl')"
   ]
  },
  {
   "cell_type": "code",
   "execution_count": 68,
   "metadata": {},
   "outputs": [
    {
     "data": {
      "text/plain": [
       "{'age': '21',\n",
       " 'job': 'blue-collar',\n",
       " 'marital': 'married',\n",
       " 'education': 'professional.course',\n",
       " 'default': 'yes',\n",
       " 'housing': 'yes',\n",
       " 'loan': 'yes',\n",
       " 'contact': 'cellular',\n",
       " 'month': 'mar',\n",
       " 'day_of_week': 'mon',\n",
       " 'duration': '5',\n",
       " 'campaign': '5',\n",
       " 'pdays': '5',\n",
       " 'previous': '4',\n",
       " 'poutcome': 'nonexistent',\n",
       " 'emp_var_rate': '0.6',\n",
       " 'cons_price_idx': '94.201',\n",
       " 'cons_conf_idx': '-27.8',\n",
       " 'euribor3m': '4.634',\n",
       " 'nr_employed': '4965.6'}"
      ]
     },
     "execution_count": 68,
     "metadata": {},
     "output_type": "execute_result"
    }
   ],
   "source": [
    "# list(a.items())\n",
    "# array = np.array(list(a.items()))\n",
    "# array[0]\n",
    "a"
   ]
  },
  {
   "cell_type": "code",
   "execution_count": 39,
   "metadata": {},
   "outputs": [],
   "source": [
    "num_cols =[\"age\", \"duration\", \"campaign\", \"pdays\", \"previous\", \"emp_var_rate\", \"cons_price_idx\", \"cons_conf_idx\", \"euribor3m\", \"nr_employed\"]"
   ]
  },
  {
   "cell_type": "code",
   "execution_count": 40,
   "metadata": {},
   "outputs": [],
   "source": [
    "data = { key: (eval(val) if key in num_cols else val) for (key, val) in a.items() }"
   ]
  },
  {
   "cell_type": "code",
   "execution_count": 49,
   "metadata": {},
   "outputs": [
    {
     "data": {
      "text/plain": [
       "{'age': 21,\n",
       " 'job': 'blue-collar',\n",
       " 'marital': 'married',\n",
       " 'education': 'professional.course',\n",
       " 'default': 'yes',\n",
       " 'housing': 'yes',\n",
       " 'loan': 'yes',\n",
       " 'contact': 'cellular',\n",
       " 'month': 'mar',\n",
       " 'day_of_week': 'mon',\n",
       " 'duration': 5,\n",
       " 'campaign': 5,\n",
       " 'pdays': 5,\n",
       " 'previous': 4,\n",
       " 'poutcome': 'nonexistent',\n",
       " 'emp_var_rate': 0.6,\n",
       " 'cons_price_idx': 94.201,\n",
       " 'cons_conf_idx': -27.8,\n",
       " 'euribor3m': 4.634,\n",
       " 'nr_employed': 4965.6}"
      ]
     },
     "execution_count": 49,
     "metadata": {},
     "output_type": "execute_result"
    }
   ],
   "source": [
    "data"
   ]
  },
  {
   "cell_type": "code",
   "execution_count": 69,
   "metadata": {},
   "outputs": [],
   "source": [
    "data1 = pd.DataFrame(a, columns=a.keys(), index=[0]).copy()"
   ]
  },
  {
   "cell_type": "code",
   "execution_count": 70,
   "metadata": {},
   "outputs": [
    {
     "data": {
      "text/html": [
       "<div>\n",
       "<style scoped>\n",
       "    .dataframe tbody tr th:only-of-type {\n",
       "        vertical-align: middle;\n",
       "    }\n",
       "\n",
       "    .dataframe tbody tr th {\n",
       "        vertical-align: top;\n",
       "    }\n",
       "\n",
       "    .dataframe thead th {\n",
       "        text-align: right;\n",
       "    }\n",
       "</style>\n",
       "<table border=\"1\" class=\"dataframe\">\n",
       "  <thead>\n",
       "    <tr style=\"text-align: right;\">\n",
       "      <th></th>\n",
       "      <th>age</th>\n",
       "      <th>job</th>\n",
       "      <th>marital</th>\n",
       "      <th>education</th>\n",
       "      <th>default</th>\n",
       "      <th>housing</th>\n",
       "      <th>loan</th>\n",
       "      <th>contact</th>\n",
       "      <th>month</th>\n",
       "      <th>day_of_week</th>\n",
       "      <th>duration</th>\n",
       "      <th>campaign</th>\n",
       "      <th>pdays</th>\n",
       "      <th>previous</th>\n",
       "      <th>poutcome</th>\n",
       "      <th>emp_var_rate</th>\n",
       "      <th>cons_price_idx</th>\n",
       "      <th>cons_conf_idx</th>\n",
       "      <th>euribor3m</th>\n",
       "      <th>nr_employed</th>\n",
       "    </tr>\n",
       "  </thead>\n",
       "  <tbody>\n",
       "    <tr>\n",
       "      <th>0</th>\n",
       "      <td>21</td>\n",
       "      <td>blue-collar</td>\n",
       "      <td>married</td>\n",
       "      <td>professional.course</td>\n",
       "      <td>yes</td>\n",
       "      <td>yes</td>\n",
       "      <td>yes</td>\n",
       "      <td>cellular</td>\n",
       "      <td>mar</td>\n",
       "      <td>mon</td>\n",
       "      <td>5</td>\n",
       "      <td>5</td>\n",
       "      <td>5</td>\n",
       "      <td>4</td>\n",
       "      <td>nonexistent</td>\n",
       "      <td>0.6</td>\n",
       "      <td>94.201</td>\n",
       "      <td>-27.8</td>\n",
       "      <td>4.634</td>\n",
       "      <td>4965.6</td>\n",
       "    </tr>\n",
       "  </tbody>\n",
       "</table>\n",
       "</div>"
      ],
      "text/plain": [
       "  age          job  marital            education default housing loan   \n",
       "0  21  blue-collar  married  professional.course     yes     yes  yes  \\\n",
       "\n",
       "    contact month day_of_week duration campaign pdays previous     poutcome   \n",
       "0  cellular   mar         mon        5        5     5        4  nonexistent  \\\n",
       "\n",
       "  emp_var_rate cons_price_idx cons_conf_idx euribor3m nr_employed  \n",
       "0          0.6         94.201         -27.8     4.634      4965.6  "
      ]
     },
     "execution_count": 70,
     "metadata": {},
     "output_type": "execute_result"
    }
   ],
   "source": [
    "data1"
   ]
  },
  {
   "cell_type": "code",
   "execution_count": 71,
   "metadata": {},
   "outputs": [
    {
     "data": {
      "text/plain": [
       "age               object\n",
       "job               object\n",
       "marital           object\n",
       "education         object\n",
       "default           object\n",
       "housing           object\n",
       "loan              object\n",
       "contact           object\n",
       "month             object\n",
       "day_of_week       object\n",
       "duration          object\n",
       "campaign          object\n",
       "pdays             object\n",
       "previous          object\n",
       "poutcome          object\n",
       "emp_var_rate      object\n",
       "cons_price_idx    object\n",
       "cons_conf_idx     object\n",
       "euribor3m         object\n",
       "nr_employed       object\n",
       "dtype: object"
      ]
     },
     "execution_count": 71,
     "metadata": {},
     "output_type": "execute_result"
    }
   ],
   "source": [
    "data1.dtypes"
   ]
  },
  {
   "cell_type": "code",
   "execution_count": 72,
   "metadata": {},
   "outputs": [
    {
     "name": "stderr",
     "output_type": "stream",
     "text": [
      "/home/amaithi/anaconda3/envs/ml_ops/lib/python3.9/site-packages/sklearn/base.py:439: UserWarning: X does not have valid feature names, but StandardScaler was fitted with feature names\n",
      "  warnings.warn(\n"
     ]
    }
   ],
   "source": [
    "aa = pre.transform(data1)\n"
   ]
  },
  {
   "cell_type": "code",
   "execution_count": 54,
   "metadata": {},
   "outputs": [
    {
     "data": {
      "text/plain": [
       "array([[ 7.07857739e-01, -9.08418289e-01, -1.56933397e-01,\n",
       "         9.53400720e-01, -2.16576135e+00,  2.36478107e+00,\n",
       "        -3.39290498e-01,  3.97705932e-01, -1.85700002e-01,\n",
       "        -1.82552874e+00,  5.00000000e+00,  0.00000000e+00,\n",
       "         0.00000000e+00,  0.00000000e+00,  1.00000000e+00,\n",
       "         0.00000000e+00,  0.00000000e+00,  0.00000000e+00,\n",
       "         1.00000000e+00,  0.00000000e+00,  5.00000000e+00,\n",
       "         5.00000000e+00,  5.00000000e+00,  4.00000000e+00,\n",
       "         6.00000000e-01,  9.42010000e+01, -2.78000000e+01,\n",
       "         4.63400000e+00,  4.96560000e+03]])"
      ]
     },
     "execution_count": 54,
     "metadata": {},
     "output_type": "execute_result"
    }
   ],
   "source": [
    "aa"
   ]
  },
  {
   "cell_type": "code",
   "execution_count": 73,
   "metadata": {},
   "outputs": [
    {
     "name": "stderr",
     "output_type": "stream",
     "text": [
      "/home/amaithi/anaconda3/envs/ml_ops/lib/python3.9/site-packages/sklearn/base.py:439: UserWarning: X does not have valid feature names, but RandomForestClassifier was fitted with feature names\n",
      "  warnings.warn(\n"
     ]
    }
   ],
   "source": [
    "predd = pred.predict(aa)"
   ]
  },
  {
   "cell_type": "code",
   "execution_count": 74,
   "metadata": {},
   "outputs": [
    {
     "data": {
      "text/plain": [
       "0"
      ]
     },
     "execution_count": 74,
     "metadata": {},
     "output_type": "execute_result"
    }
   ],
   "source": [
    "predd.tolist()[0]"
   ]
  },
  {
   "cell_type": "code",
   "execution_count": null,
   "metadata": {},
   "outputs": [],
   "source": []
  }
 ],
 "metadata": {
  "kernelspec": {
   "display_name": "Python 3.9.16 ('ml_ops')",
   "language": "python",
   "name": "python3"
  },
  "language_info": {
   "codemirror_mode": {
    "name": "ipython",
    "version": 3
   },
   "file_extension": ".py",
   "mimetype": "text/x-python",
   "name": "python",
   "nbconvert_exporter": "python",
   "pygments_lexer": "ipython3",
   "version": "3.9.16"
  },
  "orig_nbformat": 4,
  "vscode": {
   "interpreter": {
    "hash": "ef1e6846e9cd151b877c0d825feabcf88a579ec5e4c6599a9c7a7639b171d041"
   }
  }
 },
 "nbformat": 4,
 "nbformat_minor": 2
}
